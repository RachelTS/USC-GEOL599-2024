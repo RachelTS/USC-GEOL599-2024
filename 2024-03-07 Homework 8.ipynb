{
 "cells": [
  {
   "cell_type": "code",
   "execution_count": 4,
   "id": "fc872d6e-25f5-463c-bb99-259281cea5ab",
   "metadata": {},
   "outputs": [
    {
     "name": "stdout",
     "output_type": "stream",
     "text": [
      "Collecting openpyxl\n",
      "  Downloading openpyxl-3.1.2-py2.py3-none-any.whl (249 kB)\n",
      "     -------------------------------------- 250.0/250.0 kB 3.1 MB/s eta 0:00:00\n",
      "Collecting et-xmlfile\n",
      "  Downloading et_xmlfile-1.1.0-py3-none-any.whl (4.7 kB)\n",
      "Installing collected packages: et-xmlfile, openpyxl\n",
      "Successfully installed et-xmlfile-1.1.0 openpyxl-3.1.2\n",
      "Note: you may need to restart the kernel to use updated packages.\n"
     ]
    },
    {
     "name": "stderr",
     "output_type": "stream",
     "text": [
      "WARNING: Ignoring invalid distribution -yproj (c:\\users\\rache\\miniconda3\\envs\\pyleo\\lib\\site-packages)\n",
      "WARNING: Ignoring invalid distribution -yproj (c:\\users\\rache\\miniconda3\\envs\\pyleo\\lib\\site-packages)\n",
      "WARNING: Ignoring invalid distribution -yproj (c:\\users\\rache\\miniconda3\\envs\\pyleo\\lib\\site-packages)\n",
      "WARNING: Ignoring invalid distribution -yproj (c:\\users\\rache\\miniconda3\\envs\\pyleo\\lib\\site-packages)\n",
      "WARNING: Ignoring invalid distribution -yproj (c:\\users\\rache\\miniconda3\\envs\\pyleo\\lib\\site-packages)\n",
      "WARNING: Ignoring invalid distribution -yproj (c:\\users\\rache\\miniconda3\\envs\\pyleo\\lib\\site-packages)\n",
      "WARNING: Ignoring invalid distribution -yproj (c:\\users\\rache\\miniconda3\\envs\\pyleo\\lib\\site-packages)\n",
      "WARNING: Ignoring invalid distribution -yproj (c:\\users\\rache\\miniconda3\\envs\\pyleo\\lib\\site-packages)\n"
     ]
    }
   ],
   "source": [
    "# pip install openpyxl"
   ]
  },
  {
   "cell_type": "code",
   "execution_count": 1,
   "id": "4968d991-43f7-4cf0-9b59-68df91b4464f",
   "metadata": {},
   "outputs": [],
   "source": [
    "# importing libraries\n",
    "import pandas as pd\n",
    "import numpy as np\n",
    "from matplotlib import pyplot as plt\n",
    "import seaborn as sns\n",
    "from sklearn import linear_model\n",
    "from sklearn.model_selection import train_test_split as tts\n",
    "from sklearn.metrics import mean_squared_error as mse\n",
    "from sklearn.tree import DecisionTreeRegressor\n",
    "from sklearn.ensemble import RandomForestRegressor"
   ]
  },
  {
   "cell_type": "code",
   "execution_count": 2,
   "id": "94499462-69c0-4c72-978b-6b3bd9f78da8",
   "metadata": {
    "tags": []
   },
   "outputs": [],
   "source": [
    "# Read in buoy data\n",
    "file = \"C:/Users/rache/Documents/University of Southern California/2023-2024 Year 4/GEOL 599 Environmental data science/data/HW8_buoy_data.xlsx\" #note on path\n",
    "buoy_all = pd.read_excel(file)"
   ]
  },
  {
   "cell_type": "code",
   "execution_count": 3,
   "id": "c4122975-68df-4710-bdf0-64a234795586",
   "metadata": {},
   "outputs": [
    {
     "data": {
      "text/html": [
       "<div>\n",
       "<style scoped>\n",
       "    .dataframe tbody tr th:only-of-type {\n",
       "        vertical-align: middle;\n",
       "    }\n",
       "\n",
       "    .dataframe tbody tr th {\n",
       "        vertical-align: top;\n",
       "    }\n",
       "\n",
       "    .dataframe thead th {\n",
       "        text-align: right;\n",
       "    }\n",
       "</style>\n",
       "<table border=\"1\" class=\"dataframe\">\n",
       "  <thead>\n",
       "    <tr style=\"text-align: right;\">\n",
       "      <th></th>\n",
       "      <th>YY</th>\n",
       "      <th>MM</th>\n",
       "      <th>DD</th>\n",
       "      <th>hh</th>\n",
       "      <th>mm</th>\n",
       "      <th>WDIR</th>\n",
       "      <th>WSPD</th>\n",
       "      <th>GST</th>\n",
       "      <th>WVHT</th>\n",
       "      <th>DPD</th>\n",
       "      <th>APD</th>\n",
       "      <th>MWD</th>\n",
       "      <th>PRES</th>\n",
       "      <th>ATMP</th>\n",
       "      <th>WTMP</th>\n",
       "      <th>DEWP</th>\n",
       "      <th>VIS</th>\n",
       "      <th>TIDE</th>\n",
       "    </tr>\n",
       "  </thead>\n",
       "  <tbody>\n",
       "    <tr>\n",
       "      <th>0</th>\n",
       "      <td>2023</td>\n",
       "      <td>1</td>\n",
       "      <td>1</td>\n",
       "      <td>0</td>\n",
       "      <td>26</td>\n",
       "      <td>999</td>\n",
       "      <td>99</td>\n",
       "      <td>99</td>\n",
       "      <td>1.12</td>\n",
       "      <td>12.50</td>\n",
       "      <td>7.69</td>\n",
       "      <td>269</td>\n",
       "      <td>9999</td>\n",
       "      <td>999</td>\n",
       "      <td>15.3</td>\n",
       "      <td>999</td>\n",
       "      <td>99</td>\n",
       "      <td>99</td>\n",
       "    </tr>\n",
       "    <tr>\n",
       "      <th>1</th>\n",
       "      <td>2023</td>\n",
       "      <td>1</td>\n",
       "      <td>1</td>\n",
       "      <td>0</td>\n",
       "      <td>56</td>\n",
       "      <td>999</td>\n",
       "      <td>99</td>\n",
       "      <td>99</td>\n",
       "      <td>1.16</td>\n",
       "      <td>11.76</td>\n",
       "      <td>7.34</td>\n",
       "      <td>272</td>\n",
       "      <td>9999</td>\n",
       "      <td>999</td>\n",
       "      <td>15.3</td>\n",
       "      <td>999</td>\n",
       "      <td>99</td>\n",
       "      <td>99</td>\n",
       "    </tr>\n",
       "    <tr>\n",
       "      <th>2</th>\n",
       "      <td>2023</td>\n",
       "      <td>1</td>\n",
       "      <td>1</td>\n",
       "      <td>1</td>\n",
       "      <td>26</td>\n",
       "      <td>999</td>\n",
       "      <td>99</td>\n",
       "      <td>99</td>\n",
       "      <td>1.20</td>\n",
       "      <td>12.50</td>\n",
       "      <td>7.08</td>\n",
       "      <td>268</td>\n",
       "      <td>9999</td>\n",
       "      <td>999</td>\n",
       "      <td>15.3</td>\n",
       "      <td>999</td>\n",
       "      <td>99</td>\n",
       "      <td>99</td>\n",
       "    </tr>\n",
       "    <tr>\n",
       "      <th>3</th>\n",
       "      <td>2023</td>\n",
       "      <td>1</td>\n",
       "      <td>1</td>\n",
       "      <td>1</td>\n",
       "      <td>56</td>\n",
       "      <td>999</td>\n",
       "      <td>99</td>\n",
       "      <td>99</td>\n",
       "      <td>1.25</td>\n",
       "      <td>10.53</td>\n",
       "      <td>7.33</td>\n",
       "      <td>268</td>\n",
       "      <td>9999</td>\n",
       "      <td>999</td>\n",
       "      <td>15.4</td>\n",
       "      <td>999</td>\n",
       "      <td>99</td>\n",
       "      <td>99</td>\n",
       "    </tr>\n",
       "    <tr>\n",
       "      <th>4</th>\n",
       "      <td>2023</td>\n",
       "      <td>1</td>\n",
       "      <td>1</td>\n",
       "      <td>2</td>\n",
       "      <td>26</td>\n",
       "      <td>999</td>\n",
       "      <td>99</td>\n",
       "      <td>99</td>\n",
       "      <td>1.27</td>\n",
       "      <td>10.53</td>\n",
       "      <td>7.57</td>\n",
       "      <td>268</td>\n",
       "      <td>9999</td>\n",
       "      <td>999</td>\n",
       "      <td>15.5</td>\n",
       "      <td>999</td>\n",
       "      <td>99</td>\n",
       "      <td>99</td>\n",
       "    </tr>\n",
       "  </tbody>\n",
       "</table>\n",
       "</div>"
      ],
      "text/plain": [
       "     YY  MM  DD  hh  mm  WDIR  WSPD  GST  WVHT    DPD   APD  MWD  PRES  ATMP  \\\n",
       "0  2023   1   1   0  26   999    99   99  1.12  12.50  7.69  269  9999   999   \n",
       "1  2023   1   1   0  56   999    99   99  1.16  11.76  7.34  272  9999   999   \n",
       "2  2023   1   1   1  26   999    99   99  1.20  12.50  7.08  268  9999   999   \n",
       "3  2023   1   1   1  56   999    99   99  1.25  10.53  7.33  268  9999   999   \n",
       "4  2023   1   1   2  26   999    99   99  1.27  10.53  7.57  268  9999   999   \n",
       "\n",
       "   WTMP  DEWP  VIS  TIDE  \n",
       "0  15.3   999   99    99  \n",
       "1  15.3   999   99    99  \n",
       "2  15.3   999   99    99  \n",
       "3  15.4   999   99    99  \n",
       "4  15.5   999   99    99  "
      ]
     },
     "execution_count": 3,
     "metadata": {},
     "output_type": "execute_result"
    }
   ],
   "source": [
    "# Take a look at the data.\n",
    "buoy_all.head()"
   ]
  },
  {
   "cell_type": "code",
   "execution_count": 4,
   "id": "d7abc377-b65f-4dea-b3fb-7e7dcbf9f245",
   "metadata": {
    "tags": []
   },
   "outputs": [
    {
     "data": {
      "text/html": [
       "<div>\n",
       "<style scoped>\n",
       "    .dataframe tbody tr th:only-of-type {\n",
       "        vertical-align: middle;\n",
       "    }\n",
       "\n",
       "    .dataframe tbody tr th {\n",
       "        vertical-align: top;\n",
       "    }\n",
       "\n",
       "    .dataframe thead th {\n",
       "        text-align: right;\n",
       "    }\n",
       "</style>\n",
       "<table border=\"1\" class=\"dataframe\">\n",
       "  <thead>\n",
       "    <tr style=\"text-align: right;\">\n",
       "      <th></th>\n",
       "      <th>height</th>\n",
       "      <th>dom pd</th>\n",
       "      <th>avg pd</th>\n",
       "      <th>dir</th>\n",
       "      <th>temp</th>\n",
       "    </tr>\n",
       "  </thead>\n",
       "  <tbody>\n",
       "    <tr>\n",
       "      <th>0</th>\n",
       "      <td>1.12</td>\n",
       "      <td>12.50</td>\n",
       "      <td>7.69</td>\n",
       "      <td>269</td>\n",
       "      <td>15.3</td>\n",
       "    </tr>\n",
       "    <tr>\n",
       "      <th>1</th>\n",
       "      <td>1.16</td>\n",
       "      <td>11.76</td>\n",
       "      <td>7.34</td>\n",
       "      <td>272</td>\n",
       "      <td>15.3</td>\n",
       "    </tr>\n",
       "    <tr>\n",
       "      <th>2</th>\n",
       "      <td>1.20</td>\n",
       "      <td>12.50</td>\n",
       "      <td>7.08</td>\n",
       "      <td>268</td>\n",
       "      <td>15.3</td>\n",
       "    </tr>\n",
       "    <tr>\n",
       "      <th>3</th>\n",
       "      <td>1.25</td>\n",
       "      <td>10.53</td>\n",
       "      <td>7.33</td>\n",
       "      <td>268</td>\n",
       "      <td>15.4</td>\n",
       "    </tr>\n",
       "    <tr>\n",
       "      <th>4</th>\n",
       "      <td>1.27</td>\n",
       "      <td>10.53</td>\n",
       "      <td>7.57</td>\n",
       "      <td>268</td>\n",
       "      <td>15.5</td>\n",
       "    </tr>\n",
       "  </tbody>\n",
       "</table>\n",
       "</div>"
      ],
      "text/plain": [
       "   height  dom pd  avg pd  dir  temp\n",
       "0    1.12   12.50    7.69  269  15.3\n",
       "1    1.16   11.76    7.34  272  15.3\n",
       "2    1.20   12.50    7.08  268  15.3\n",
       "3    1.25   10.53    7.33  268  15.4\n",
       "4    1.27   10.53    7.57  268  15.5"
      ]
     },
     "execution_count": 4,
     "metadata": {},
     "output_type": "execute_result"
    }
   ],
   "source": [
    "# Select only needed columns and rename them\n",
    "buoy = buoy_all.loc[:,['WVHT','DPD','APD','MWD','WTMP']]\n",
    "buoy = buoy.rename(columns={'WVHT':'height','DPD':'dom pd','APD':'avg pd','MWD':'dir','WTMP':'temp'})\n",
    "buoy.head()"
   ]
  },
  {
   "cell_type": "code",
   "execution_count": 5,
   "id": "3a36e8fd-8351-46f9-b09f-b81afb59cc78",
   "metadata": {},
   "outputs": [],
   "source": [
    "# Drop rows with no data (cell value = 99)\n",
    "buoy[(buoy['height']==99)|(buoy['dom pd']==99)|(buoy['avg pd']==99)|(buoy['dir']==99)|(buoy['temp']==99)] #See rows with no data\n",
    "buoy= buoy.drop(buoy[buoy['height']==99].index)"
   ]
  },
  {
   "cell_type": "code",
   "execution_count": 6,
   "id": "9f115a87-198b-44a9-ac70-a3ecfc97ca48",
   "metadata": {},
   "outputs": [
    {
     "data": {
      "image/png": "[encoded data removed]",
      "text/plain": [
       "<Figure size 640x480 with 1 Axes>"
      ]
     },
     "metadata": {},
     "output_type": "display_data"
    }
   ],
   "source": [
    "# Check out the data. Plot the different variables against wave height.\n",
    "sns.scatterplot(data=buoy, x='dir', y='height')\n",
    "plt.show()"
   ]
  },
  {
   "cell_type": "code",
   "execution_count": 9,
   "id": "13ce8d3c-a749-45d7-87fe-6885e53b7635",
   "metadata": {},
   "outputs": [
    {
     "data": {
      "text/plain": [
       "array([[ 12.5 ,   7.69, 269.  ,  15.3 ],\n",
       "       [ 11.76,   7.34, 272.  ,  15.3 ],\n",
       "       [ 12.5 ,   7.08, 268.  ,  15.3 ],\n",
       "       ...,\n",
       "       [ 13.33,  10.5 , 268.  ,  16.8 ],\n",
       "       [ 14.29,  10.32, 271.  ,  16.8 ],\n",
       "       [ 12.5 ,  10.54, 271.  ,  16.9 ]])"
      ]
     },
     "execution_count": 9,
     "metadata": {},
     "output_type": "execute_result"
    }
   ],
   "source": [
    "# Convert data to numpy array\n",
    "X = buoy.loc[:,['dom pd','avg pd','dir','temp']].to_numpy()\n",
    "X"
   ]
  },
  {
   "cell_type": "code",
   "execution_count": 10,
   "id": "ad7a4572-47a1-4b7c-8db4-9fd00c9f1b02",
   "metadata": {},
   "outputs": [
    {
     "data": {
      "text/plain": [
       "array([1.12, 1.16, 1.2 , ..., 1.79, 1.66, 1.7 ])"
      ]
     },
     "execution_count": 10,
     "metadata": {},
     "output_type": "execute_result"
    }
   ],
   "source": [
    "# Convert data to numpy array\n",
    "y = buoy.loc[:,'height'].to_numpy()\n",
    "y"
   ]
  },
  {
   "cell_type": "code",
   "execution_count": 11,
   "id": "37005a73-60b3-4e63-8b98-ab18514eb553",
   "metadata": {},
   "outputs": [],
   "source": [
    "# Split the data into training, validation, and test datasets (75:10:15 split)\n",
    "Xtr, X1 , ytr, y1 = tts(X, y, test_size= 0.25) #split into 75% training, 25% everything else\n",
    "Xva, Xte, yva, yte = tts(X1, y1, test_size= 0.6) #split the 25% into 40% validation (10% of original), 60% test (15% of original)"
   ]
  },
  {
   "cell_type": "code",
   "execution_count": 12,
   "id": "c1357fc7-baec-4d23-bbb1-3938e715ad90",
   "metadata": {},
   "outputs": [
    {
     "name": "stdout",
     "output_type": "stream",
     "text": [
      "0.2944121819721556\n",
      "0.28478137369470125\n",
      "0.30055990122131804\n"
     ]
    }
   ],
   "source": [
    "# Fit linear ODE as baseline model for comparison\n",
    "lin = linear_model.LinearRegression()\n",
    "lin.fit(Xtr, ytr)\n",
    "print(lin.score(Xtr,ytr))\n",
    "print(lin.score(Xva,yva))\n",
    "print(lin.score(Xte,yte))"
   ]
  },
  {
   "cell_type": "code",
   "execution_count": 13,
   "id": "51484424-8662-447d-8c15-f7f887c0205f",
   "metadata": {},
   "outputs": [
    {
     "name": "stdout",
     "output_type": "stream",
     "text": [
      "0.1996909461966401\n",
      "0.18350740192384662\n",
      "0.18374205906293647\n"
     ]
    }
   ],
   "source": [
    "# Print MSE of linear ODE model\n",
    "print(mse(ytr, lin.predict(Xtr)))\n",
    "print(mse(yva, lin.predict(Xva)))\n",
    "print(mse(yte, lin.predict(Xte)))"
   ]
  },
  {
   "cell_type": "code",
   "execution_count": 14,
   "id": "fa9ae0d2-a13d-4c68-a36c-249b2398502d",
   "metadata": {},
   "outputs": [
    {
     "name": "stdout",
     "output_type": "stream",
     "text": [
      "0.7283992874762072\n",
      "0.5717854766712941\n"
     ]
    }
   ],
   "source": [
    "# With the same data splits, fit a decision tree regressor\n",
    "tree= DecisionTreeRegressor(max_depth= 10)\n",
    "tree.fit(Xtr,ytr)\n",
    "print(tree.score(Xtr,ytr))\n",
    "print(tree.score(Xva,yva))\n",
    "# validation set indicates optimal tree depth to be about 10"
   ]
  },
  {
   "cell_type": "code",
   "execution_count": 15,
   "id": "67f0d2c8-197c-46b0-a3f9-710dbace31f4",
   "metadata": {},
   "outputs": [
    {
     "name": "stdout",
     "output_type": "stream",
     "text": [
      "0.6003752668263865\n",
      "0.10498092896591349\n"
     ]
    }
   ],
   "source": [
    "# Use decision tree model on test data\n",
    "print(tree.score(Xte,yte))\n",
    "print(mse(yte, tree.predict(Xte)))"
   ]
  },
  {
   "cell_type": "code",
   "execution_count": 19,
   "id": "1f0158cc-12a9-44f5-abc3-f3d0ff46b37b",
   "metadata": {},
   "outputs": [
    {
     "name": "stdout",
     "output_type": "stream",
     "text": [
      "0.9551827739007215\n",
      "0.6537586914952798\n"
     ]
    }
   ],
   "source": [
    "# With the same data splits, fit a random forest regressor with 25 trees\n",
    "forest= RandomForestRegressor(n_estimators= 25, max_depth= 30)\n",
    "forest.fit(Xtr,ytr)\n",
    "print(forest.score(Xtr,ytr))\n",
    "print(forest.score(Xva,yva))\n",
    "# validation set indicates optimal tree depth to be about 30"
   ]
  },
  {
   "cell_type": "code",
   "execution_count": 20,
   "id": "7fdbdbd4-c4c1-4292-a376-bc5c317999ac",
   "metadata": {},
   "outputs": [
    {
     "name": "stdout",
     "output_type": "stream",
     "text": [
      "0.7089138076328199\n",
      "0.07646798695660635\n"
     ]
    }
   ],
   "source": [
    "# Use random forest model on test data\n",
    "print(forest.score(Xte,yte))\n",
    "print(mse(yte, forest.predict(Xte)))"
   ]
  },
  {
   "cell_type": "code",
   "execution_count": 21,
   "id": "71f1d3fc-482c-4102-8ebc-1966f4bfdc3e",
   "metadata": {},
   "outputs": [
    {
     "name": "stdout",
     "output_type": "stream",
     "text": [
      "Linear score: 0.301\n",
      "Linear MSE: 0.184\n",
      "Decision tree score: 0.6\n",
      "Decision tree MSE: 0.105\n",
      "Random forest score: 0.709\n",
      "Random forest MSE: 0.076\n"
     ]
    }
   ],
   "source": [
    "# Print the 3 models' (linear regression, decision tree, random forest) scores and MSE for test data\n",
    "print(\"Linear score:\", lin.score(Xte,yte).round(3))\n",
    "print(\"Linear MSE:\", mse(yte, lin.predict(Xte)).round(3))\n",
    "print(\"Decision tree score:\", tree.score(Xte,yte).round(3))\n",
    "print(\"Decision tree MSE:\", mse(yte, tree.predict(Xte)).round(3))\n",
    "print(\"Random forest score:\", forest.score(Xte,yte).round(3))\n",
    "print(\"Random forest MSE:\", mse(yte, forest.predict(Xte)).round(3))"
   ]
  },
  {
   "cell_type": "code",
   "execution_count": null,
   "id": "7583b529-ca27-4afe-9805-a398c9002562",
   "metadata": {},
   "outputs": [],
   "source": [
    "# 1.) Of the 3 models tested, the random forest model performs best, with the highest score and the lowest MSE.\n",
    "# 2.) The cost functions I'm using are ordinary least squares for the linear model and mean squared error for both the decision tree and random forest models.\n",
    "# 3.) The only hyperparameter I optimized is maximum tree depth for both the decision tree model and random forest model."
   ]
  },
  {
   "cell_type": "code",
   "execution_count": 22,
   "id": "790ba522-813c-49c9-954f-901da563d589",
   "metadata": {},
   "outputs": [],
   "source": [
    "# Redo the models with a different dataset split 60:10:30\n",
    "Xtr2, X2 , ytr2, y2 = tts(X, y, test_size= 0.4) \n",
    "Xva2, Xte2, yva2, yte2 = tts(X1, y1, test_size= 0.75)"
   ]
  },
  {
   "cell_type": "code",
   "execution_count": 23,
   "id": "fa1676dd-8d41-4b7b-8ba0-968e239ce9bd",
   "metadata": {},
   "outputs": [
    {
     "name": "stdout",
     "output_type": "stream",
     "text": [
      "Linear score: 0.301\n",
      "Linear MSE: 0.183\n",
      "Decision tree score: 0.58\n",
      "Decision tree MSE: 0.11\n",
      "Random forest score: 0.672\n",
      "Random forest MSE: 0.086\n"
     ]
    }
   ],
   "source": [
    "# Print scores and MSEs for new split\n",
    "print(\"Linear score:\", lin.score(Xte2,yte2).round(3))\n",
    "print(\"Linear MSE:\", mse(yte2, lin.predict(Xte2)).round(3))\n",
    "print(\"Decision tree score:\", tree.score(Xte2,yte2).round(3))\n",
    "print(\"Decision tree MSE:\", mse(yte2, tree.predict(Xte2)).round(3))\n",
    "print(\"Random forest score:\", forest.score(Xte2,yte2).round(3))\n",
    "print(\"Random forest MSE:\", mse(yte2, forest.predict(Xte2)).round(3))"
   ]
  },
  {
   "cell_type": "code",
   "execution_count": 24,
   "id": "4542114f-21c7-4f33-a5f3-c36d3c3ae22a",
   "metadata": {},
   "outputs": [],
   "source": [
    "# Redo the models with a different dataset split 80:8:12\n",
    "Xtr3, X3 , ytr3, y3 = tts(X, y, test_size= 0.2) \n",
    "Xva3, Xte3, yva3, yte3 = tts(X1, y1, test_size= 0.60)"
   ]
  },
  {
   "cell_type": "code",
   "execution_count": 25,
   "id": "35caf0ff-3438-41dc-ba0f-43794abbc410",
   "metadata": {},
   "outputs": [
    {
     "name": "stdout",
     "output_type": "stream",
     "text": [
      "Linear score: 0.285\n",
      "Linear MSE: 0.179\n",
      "Decision tree score: 0.588\n",
      "Decision tree MSE: 0.103\n",
      "Random forest score: 0.678\n",
      "Random forest MSE: 0.081\n"
     ]
    }
   ],
   "source": [
    "# Print scores and MSEs for new split\n",
    "print(\"Linear score:\", lin.score(Xte3,yte3).round(3))\n",
    "print(\"Linear MSE:\", mse(yte3, lin.predict(Xte3)).round(3))\n",
    "print(\"Decision tree score:\", tree.score(Xte3,yte3).round(3))\n",
    "print(\"Decision tree MSE:\", mse(yte3, tree.predict(Xte3)).round(3))\n",
    "print(\"Random forest score:\", forest.score(Xte3,yte3).round(3))\n",
    "print(\"Random forest MSE:\", mse(yte3, forest.predict(Xte3)).round(3))"
   ]
  },
  {
   "cell_type": "code",
   "execution_count": null,
   "id": "5b93c532-14ec-46b0-8ffe-c8d76dfd5637",
   "metadata": {},
   "outputs": [],
   "source": [
    "# 4.) Redoing the validation splits changes the scores and MSEs slightly, but it doesn't change the 3 models' performances much."
   ]
  },
  {
   "cell_type": "code",
   "execution_count": 26,
   "id": "028d1e6b-11b4-461b-a9fd-19c68c46df34",
   "metadata": {},
   "outputs": [],
   "source": [
    "# Generate set of random forest models with different # of trees\n",
    "f2 = RandomForestRegressor(n_estimators= 2, max_depth= 30)\n",
    "f10 = RandomForestRegressor(n_estimators= 10, max_depth= 30)\n",
    "f50 = RandomForestRegressor(n_estimators= 50, max_depth= 30)\n",
    "f100 = RandomForestRegressor(n_estimators= 100, max_depth= 30)\n",
    "f250 = RandomForestRegressor(n_estimators= 250, max_depth= 30)\n",
    "f500 = RandomForestRegressor(n_estimators= 500, max_depth= 30)\n",
    "f1000 = RandomForestRegressor(n_estimators= 1000, max_depth= 30)"
   ]
  },
  {
   "cell_type": "code",
   "execution_count": 27,
   "id": "b36c17ca-2ad7-4cad-8b07-19db681c9a87",
   "metadata": {},
   "outputs": [
    {
     "data": {
      "text/html": [
       "<style>#sk-container-id-1 {color: black;background-color: white;}#sk-container-id-1 pre{padding: 0;}#sk-container-id-1 div.sk-toggleable {background-color: white;}#sk-container-id-1 label.sk-toggleable__label {cursor: pointer;display: block;width: 100%;margin-bottom: 0;padding: 0.3em;box-sizing: border-box;text-align: center;}#sk-container-id-1 label.sk-toggleable__label-arrow:before {content: \"▸\";float: left;margin-right: 0.25em;color: #696969;}#sk-container-id-1 label.sk-toggleable__label-arrow:hover:before {color: black;}#sk-container-id-1 div.sk-estimator:hover label.sk-toggleable__label-arrow:before {color: black;}#sk-container-id-1 div.sk-toggleable__content {max-height: 0;max-width: 0;overflow: hidden;text-align: left;background-color: #f0f8ff;}#sk-container-id-1 div.sk-toggleable__content pre {margin: 0.2em;color: black;border-radius: 0.25em;background-color: #f0f8ff;}#sk-container-id-1 input.sk-toggleable__control:checked~div.sk-toggleable__content {max-height: 200px;max-width: 100%;overflow: auto;}#sk-container-id-1 input.sk-toggleable__control:checked~label.sk-toggleable__label-arrow:before {content: \"▾\";}#sk-container-id-1 div.sk-estimator input.sk-toggleable__control:checked~label.sk-toggleable__label {background-color: #d4ebff;}#sk-container-id-1 div.sk-label input.sk-toggleable__control:checked~label.sk-toggleable__label {background-color: #d4ebff;}#sk-container-id-1 input.sk-hidden--visually {border: 0;clip: rect(1px 1px 1px 1px);clip: rect(1px, 1px, 1px, 1px);height: 1px;margin: -1px;overflow: hidden;padding: 0;position: absolute;width: 1px;}#sk-container-id-1 div.sk-estimator {font-family: monospace;background-color: #f0f8ff;border: 1px dotted black;border-radius: 0.25em;box-sizing: border-box;margin-bottom: 0.5em;}#sk-container-id-1 div.sk-estimator:hover {background-color: #d4ebff;}#sk-container-id-1 div.sk-parallel-item::after {content: \"\";width: 100%;border-bottom: 1px solid gray;flex-grow: 1;}#sk-container-id-1 div.sk-label:hover label.sk-toggleable__label {background-color: #d4ebff;}#sk-container-id-1 div.sk-serial::before {content: \"\";position: absolute;border-left: 1px solid gray;box-sizing: border-box;top: 0;bottom: 0;left: 50%;z-index: 0;}#sk-container-id-1 div.sk-serial {display: flex;flex-direction: column;align-items: center;background-color: white;padding-right: 0.2em;padding-left: 0.2em;position: relative;}#sk-container-id-1 div.sk-item {position: relative;z-index: 1;}#sk-container-id-1 div.sk-parallel {display: flex;align-items: stretch;justify-content: center;background-color: white;position: relative;}#sk-container-id-1 div.sk-item::before, #sk-container-id-1 div.sk-parallel-item::before {content: \"\";position: absolute;border-left: 1px solid gray;box-sizing: border-box;top: 0;bottom: 0;left: 50%;z-index: -1;}#sk-container-id-1 div.sk-parallel-item {display: flex;flex-direction: column;z-index: 1;position: relative;background-color: white;}#sk-container-id-1 div.sk-parallel-item:first-child::after {align-self: flex-end;width: 50%;}#sk-container-id-1 div.sk-parallel-item:last-child::after {align-self: flex-start;width: 50%;}#sk-container-id-1 div.sk-parallel-item:only-child::after {width: 0;}#sk-container-id-1 div.sk-dashed-wrapped {border: 1px dashed gray;margin: 0 0.4em 0.5em 0.4em;box-sizing: border-box;padding-bottom: 0.4em;background-color: white;}#sk-container-id-1 div.sk-label label {font-family: monospace;font-weight: bold;display: inline-block;line-height: 1.2em;}#sk-container-id-1 div.sk-label-container {text-align: center;}#sk-container-id-1 div.sk-container {/* jupyter's `normalize.less` sets `[hidden] { display: none; }` but bootstrap.min.css set `[hidden] { display: none !important; }` so we also need the `!important` here to be able to override the default hidden behavior on the sphinx rendered scikit-learn.org. See: https://github.com/scikit-learn/scikit-learn/issues/21755 */display: inline-block !important;position: relative;}#sk-container-id-1 div.sk-text-repr-fallback {display: none;}</style><div id=\"sk-container-id-1\" class=\"sk-top-container\"><div class=\"sk-text-repr-fallback\"><pre>RandomForestRegressor(max_depth=30, n_estimators=1000)</pre><b>In a Jupyter environment, please rerun this cell to show the HTML representation or trust the notebook. <br />On GitHub, the HTML representation is unable to render, please try loading this page with nbviewer.org.</b></div><div class=\"sk-container\" hidden><div class=\"sk-item\"><div class=\"sk-estimator sk-toggleable\"><input class=\"sk-toggleable__control sk-hidden--visually\" id=\"sk-estimator-id-1\" type=\"checkbox\" checked><label for=\"sk-estimator-id-1\" class=\"sk-toggleable__label sk-toggleable__label-arrow\">RandomForestRegressor</label><div class=\"sk-toggleable__content\"><pre>RandomForestRegressor(max_depth=30, n_estimators=1000)</pre></div></div></div></div></div>"
      ],
      "text/plain": [
       "RandomForestRegressor(max_depth=30, n_estimators=1000)"
      ]
     },
     "execution_count": 27,
     "metadata": {},
     "output_type": "execute_result"
    }
   ],
   "source": [
    "# Fit all the new random forest models\n",
    "f2.fit(Xtr,ytr)\n",
    "f10.fit(Xtr,ytr)\n",
    "f50.fit(Xtr,ytr)\n",
    "f100.fit(Xtr,ytr)\n",
    "f250.fit(Xtr,ytr)\n",
    "f500.fit(Xtr,ytr)\n",
    "f1000.fit(Xtr,ytr)"
   ]
  },
  {
   "cell_type": "code",
   "execution_count": 31,
   "id": "6f071d80-3ff7-4ce7-a843-23f72496073c",
   "metadata": {},
   "outputs": [
    {
     "name": "stdout",
     "output_type": "stream",
     "text": [
      "0.03527078044610983 0.015397424662109676 0.012683884354307982 0.011585080808324488 0.011165077450024263 0.010858228650074573 0.010666447410720526 0.010632058905825439\n"
     ]
    }
   ],
   "source": [
    "# Print out the training data MSEs of all the random forest models to see\n",
    "print(mse(ytr, f2.predict(Xtr)),\n",
    "mse(ytr, f10.predict(Xtr)),\n",
    "mse(ytr, forest.predict(Xtr)),\n",
    "mse(ytr, f50.predict(Xtr)),\n",
    "mse(ytr, f100.predict(Xtr)),\n",
    "mse(ytr, f250.predict(Xtr)),\n",
    "mse(ytr, f500.predict(Xtr)),\n",
    "mse(ytr, f1000.predict(Xtr)))"
   ]
  },
  {
   "cell_type": "code",
   "execution_count": 47,
   "id": "338bcb38-5bb5-4447-9781-2b6f967f0d4c",
   "metadata": {},
   "outputs": [],
   "source": [
    "# Make a list of the MSEs and turn it into a dataframe\n",
    "tree_num= [2.0,10,25,50,100,250,500,1000]\n",
    "mse1= [mse(ytr, f2.predict(Xtr)), mse(ytr, f10.predict(Xtr)), mse(ytr, forest.predict(Xtr)), mse(ytr, f50.predict(Xtr)), mse(ytr, f100.predict(Xtr)), mse(ytr, f250.predict(Xtr)), mse(ytr, f500.predict(Xtr)), mse(ytr, f1000.predict(Xtr))]\n",
    "mse2= [mse(yva, f2.predict(Xva)), mse(yva, f10.predict(Xva)), mse(yva, forest.predict(Xva)), mse(yva, f50.predict(Xva)), mse(yva, f100.predict(Xva)), mse(yva, f250.predict(Xva)), mse(yva, f500.predict(Xva)), mse(yva, f1000.predict(Xva))]\n",
    "MSE_data= {'number of trees':tree_num, 'training data MSE':mse1, 'validation data MSE':mse2}"
   ]
  },
  {
   "cell_type": "code",
   "execution_count": 52,
   "id": "716aa8b3-be34-4847-b6fe-75aa2bf9f40d",
   "metadata": {},
   "outputs": [
    {
     "data": {
      "text/html": [
       "<div>\n",
       "<style scoped>\n",
       "    .dataframe tbody tr th:only-of-type {\n",
       "        vertical-align: middle;\n",
       "    }\n",
       "\n",
       "    .dataframe tbody tr th {\n",
       "        vertical-align: top;\n",
       "    }\n",
       "\n",
       "    .dataframe thead th {\n",
       "        text-align: right;\n",
       "    }\n",
       "</style>\n",
       "<table border=\"1\" class=\"dataframe\">\n",
       "  <thead>\n",
       "    <tr style=\"text-align: right;\">\n",
       "      <th></th>\n",
       "      <th>number of trees</th>\n",
       "      <th>training data MSE</th>\n",
       "      <th>validation data MSE</th>\n",
       "    </tr>\n",
       "  </thead>\n",
       "  <tbody>\n",
       "    <tr>\n",
       "      <th>0</th>\n",
       "      <td>2.0</td>\n",
       "      <td>0.035271</td>\n",
       "      <td>0.111867</td>\n",
       "    </tr>\n",
       "    <tr>\n",
       "      <th>1</th>\n",
       "      <td>10.0</td>\n",
       "      <td>0.015397</td>\n",
       "      <td>0.097492</td>\n",
       "    </tr>\n",
       "    <tr>\n",
       "      <th>2</th>\n",
       "      <td>25.0</td>\n",
       "      <td>0.012684</td>\n",
       "      <td>0.088837</td>\n",
       "    </tr>\n",
       "    <tr>\n",
       "      <th>3</th>\n",
       "      <td>50.0</td>\n",
       "      <td>0.011585</td>\n",
       "      <td>0.088460</td>\n",
       "    </tr>\n",
       "    <tr>\n",
       "      <th>4</th>\n",
       "      <td>100.0</td>\n",
       "      <td>0.011165</td>\n",
       "      <td>0.085953</td>\n",
       "    </tr>\n",
       "    <tr>\n",
       "      <th>5</th>\n",
       "      <td>250.0</td>\n",
       "      <td>0.010858</td>\n",
       "      <td>0.085224</td>\n",
       "    </tr>\n",
       "    <tr>\n",
       "      <th>6</th>\n",
       "      <td>500.0</td>\n",
       "      <td>0.010666</td>\n",
       "      <td>0.085301</td>\n",
       "    </tr>\n",
       "    <tr>\n",
       "      <th>7</th>\n",
       "      <td>1000.0</td>\n",
       "      <td>0.010632</td>\n",
       "      <td>0.085643</td>\n",
       "    </tr>\n",
       "  </tbody>\n",
       "</table>\n",
       "</div>"
      ],
      "text/plain": [
       "   number of trees  training data MSE  validation data MSE\n",
       "0              2.0           0.035271             0.111867\n",
       "1             10.0           0.015397             0.097492\n",
       "2             25.0           0.012684             0.088837\n",
       "3             50.0           0.011585             0.088460\n",
       "4            100.0           0.011165             0.085953\n",
       "5            250.0           0.010858             0.085224\n",
       "6            500.0           0.010666             0.085301\n",
       "7           1000.0           0.010632             0.085643"
      ]
     },
     "execution_count": 52,
     "metadata": {},
     "output_type": "execute_result"
    }
   ],
   "source": [
    "# Turn the MSE data into a dataframe\n",
    "MSE_df= pd.DataFrame(MSE_data)\n",
    "MSE_df"
   ]
  },
  {
   "cell_type": "code",
   "execution_count": 60,
   "id": "8f2abd83-0b20-49bc-adc8-ef9c36b52702",
   "metadata": {},
   "outputs": [
    {
     "data": {
      "text/html": [
       "<div>\n",
       "<style scoped>\n",
       "    .dataframe tbody tr th:only-of-type {\n",
       "        vertical-align: middle;\n",
       "    }\n",
       "\n",
       "    .dataframe tbody tr th {\n",
       "        vertical-align: top;\n",
       "    }\n",
       "\n",
       "    .dataframe thead th {\n",
       "        text-align: right;\n",
       "    }\n",
       "</style>\n",
       "<table border=\"1\" class=\"dataframe\">\n",
       "  <thead>\n",
       "    <tr style=\"text-align: right;\">\n",
       "      <th></th>\n",
       "      <th>number of trees</th>\n",
       "      <th>variable</th>\n",
       "      <th>value</th>\n",
       "    </tr>\n",
       "  </thead>\n",
       "  <tbody>\n",
       "    <tr>\n",
       "      <th>0</th>\n",
       "      <td>2.0</td>\n",
       "      <td>training</td>\n",
       "      <td>0.035271</td>\n",
       "    </tr>\n",
       "    <tr>\n",
       "      <th>1</th>\n",
       "      <td>10.0</td>\n",
       "      <td>training</td>\n",
       "      <td>0.015397</td>\n",
       "    </tr>\n",
       "    <tr>\n",
       "      <th>2</th>\n",
       "      <td>25.0</td>\n",
       "      <td>training</td>\n",
       "      <td>0.012684</td>\n",
       "    </tr>\n",
       "    <tr>\n",
       "      <th>3</th>\n",
       "      <td>50.0</td>\n",
       "      <td>training</td>\n",
       "      <td>0.011585</td>\n",
       "    </tr>\n",
       "    <tr>\n",
       "      <th>4</th>\n",
       "      <td>100.0</td>\n",
       "      <td>training</td>\n",
       "      <td>0.011165</td>\n",
       "    </tr>\n",
       "    <tr>\n",
       "      <th>5</th>\n",
       "      <td>250.0</td>\n",
       "      <td>training</td>\n",
       "      <td>0.010858</td>\n",
       "    </tr>\n",
       "    <tr>\n",
       "      <th>6</th>\n",
       "      <td>500.0</td>\n",
       "      <td>training</td>\n",
       "      <td>0.010666</td>\n",
       "    </tr>\n",
       "    <tr>\n",
       "      <th>7</th>\n",
       "      <td>1000.0</td>\n",
       "      <td>training</td>\n",
       "      <td>0.010632</td>\n",
       "    </tr>\n",
       "    <tr>\n",
       "      <th>8</th>\n",
       "      <td>2.0</td>\n",
       "      <td>validation</td>\n",
       "      <td>0.111867</td>\n",
       "    </tr>\n",
       "    <tr>\n",
       "      <th>9</th>\n",
       "      <td>10.0</td>\n",
       "      <td>validation</td>\n",
       "      <td>0.097492</td>\n",
       "    </tr>\n",
       "    <tr>\n",
       "      <th>10</th>\n",
       "      <td>25.0</td>\n",
       "      <td>validation</td>\n",
       "      <td>0.088837</td>\n",
       "    </tr>\n",
       "    <tr>\n",
       "      <th>11</th>\n",
       "      <td>50.0</td>\n",
       "      <td>validation</td>\n",
       "      <td>0.088460</td>\n",
       "    </tr>\n",
       "    <tr>\n",
       "      <th>12</th>\n",
       "      <td>100.0</td>\n",
       "      <td>validation</td>\n",
       "      <td>0.085953</td>\n",
       "    </tr>\n",
       "    <tr>\n",
       "      <th>13</th>\n",
       "      <td>250.0</td>\n",
       "      <td>validation</td>\n",
       "      <td>0.085224</td>\n",
       "    </tr>\n",
       "    <tr>\n",
       "      <th>14</th>\n",
       "      <td>500.0</td>\n",
       "      <td>validation</td>\n",
       "      <td>0.085301</td>\n",
       "    </tr>\n",
       "    <tr>\n",
       "      <th>15</th>\n",
       "      <td>1000.0</td>\n",
       "      <td>validation</td>\n",
       "      <td>0.085643</td>\n",
       "    </tr>\n",
       "  </tbody>\n",
       "</table>\n",
       "</div>"
      ],
      "text/plain": [
       "    number of trees    variable     value\n",
       "0               2.0    training  0.035271\n",
       "1              10.0    training  0.015397\n",
       "2              25.0    training  0.012684\n",
       "3              50.0    training  0.011585\n",
       "4             100.0    training  0.011165\n",
       "5             250.0    training  0.010858\n",
       "6             500.0    training  0.010666\n",
       "7            1000.0    training  0.010632\n",
       "8               2.0  validation  0.111867\n",
       "9              10.0  validation  0.097492\n",
       "10             25.0  validation  0.088837\n",
       "11             50.0  validation  0.088460\n",
       "12            100.0  validation  0.085953\n",
       "13            250.0  validation  0.085224\n",
       "14            500.0  validation  0.085301\n",
       "15           1000.0  validation  0.085643"
      ]
     },
     "execution_count": 60,
     "metadata": {},
     "output_type": "execute_result"
    }
   ],
   "source": [
    "# Turn MSE dataframe to long format\n",
    "MSE_df = MSE_df.rename(columns= {'training data MSE':'training', 'validation data MSE':'validation'})\n",
    "MSE_df_long = pd.melt(MSE_df, id_vars= ['number of trees'], value_vars= ['training','validation'])\n",
    "MSE_df_long"
   ]
  },
  {
   "cell_type": "code",
   "execution_count": 66,
   "id": "c5adbd26-431c-4ca6-989b-8ad7f83eba1a",
   "metadata": {},
   "outputs": [
    {
     "data": {
      "image/png": "[encoded data removed]",
      "text/plain": [
       "<Figure size 640x480 with 1 Axes>"
      ]
     },
     "metadata": {},
     "output_type": "display_data"
    }
   ],
   "source": [
    "# 5.) Plot the number of trees vs. the MSEs\n",
    "plot= sns.lineplot(data=MSE_df_long, x='number of trees', y='value', hue= 'variable')\n",
    "plot.set_title(\"random forest model error\")\n",
    "plt.xlabel(\"number of trees in model\", fontsize= 15)\n",
    "plt.ylabel(\"MSE\", fontsize= 15)\n",
    "plt.show()"
   ]
  },
  {
   "cell_type": "code",
   "execution_count": null,
   "id": "4f2cd386-4c96-4d6a-b4ce-aa9be86c9cff",
   "metadata": {},
   "outputs": [],
   "source": [
    "# 6.) Since the MSEs for the validation dataset is systematically higher than that of the trainnig dataset, even with 1000 trees, there is an issue of overfitting data. The MSEs for the trainng and validation datasets would be more similar if overfitting was absent."
   ]
  }
 ],
 "metadata": {
  "kernelspec": {
   "display_name": "Python 3 (ipykernel)",
   "language": "python",
   "name": "python3"
  },
  "language_info": {
   "codemirror_mode": {
    "name": "ipython",
    "version": 3
   },
   "file_extension": ".py",
   "mimetype": "text/x-python",
   "name": "python",
   "nbconvert_exporter": "python",
   "pygments_lexer": "ipython3",
   "version": "3.9.13"
  }
 },
 "nbformat": 4,
 "nbformat_minor": 5
}
