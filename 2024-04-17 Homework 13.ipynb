{
 "cells": [
  {
   "cell_type": "code",
   "execution_count": 30,
   "id": "abae31f0-b04e-4da2-9f06-95f7c6c59ee4",
   "metadata": {},
   "outputs": [],
   "source": [
    "# Import packages\n",
    "import pandas as pd\n",
    "import numpy as np\n",
    "from matplotlib import pyplot as plt\n",
    "import seaborn as sns\n",
    "from sklearn.model_selection import train_test_split as tts\n",
    "from sklearn.metrics import mean_squared_error as mse\n",
    "from sklearn import linear_model\n",
    "from sklearn.neural_network import MLPRegressor"
   ]
  },
  {
   "cell_type": "code",
   "execution_count": 2,
   "id": "b58a561b-499a-4bdb-87a3-5eb238c5cbae",
   "metadata": {},
   "outputs": [],
   "source": [
    "# Read in buoy data and relevant variables\n",
    "buoy_file = \"C:/Users/rache/Documents/University of Southern California/2023-2024 Year 4/GEOL 599 Environmental data science/data/HW8_buoy_data.xlsx\" #note on path\n",
    "buoy_all = pd.read_excel(buoy_file)\n",
    "buoy = buoy_all.loc[:,['WVHT','DPD','APD','MWD','WTMP']]\n",
    "buoy = buoy.rename(columns={'WVHT':'height','DPD':'dom pd','APD':'avg pd','MWD':'dir','WTMP':'temp'})\n",
    "buoy[(buoy['height']==99)|(buoy['dom pd']==99)|(buoy['avg pd']==99)|(buoy['dir']==99)|(buoy['temp']==99)] #See rows with no data\n",
    "buoy= buoy.drop(buoy[buoy['height']==99].index)"
   ]
  },
  {
   "cell_type": "code",
   "execution_count": 3,
   "id": "539de166-ceae-48ee-828a-9b13b4cb489e",
   "metadata": {},
   "outputs": [
    {
     "data": {
      "text/plain": [
       "array([1.12, 1.16, 1.2 , ..., 1.79, 1.66, 1.7 ])"
      ]
     },
     "execution_count": 3,
     "metadata": {},
     "output_type": "execute_result"
    }
   ],
   "source": [
    "# Convert to numpy\n",
    "X = buoy.loc[:,['dom pd','avg pd','dir','temp']].to_numpy()\n",
    "X\n",
    "y = buoy.loc[:,'height'].to_numpy()\n",
    "y"
   ]
  },
  {
   "cell_type": "code",
   "execution_count": 6,
   "id": "8d93e4b8-8a6f-4cf3-bbb2-fc4c4bab01da",
   "metadata": {},
   "outputs": [],
   "source": [
    "# Split data 75:10:15 into training:validation:test\n",
    "Xtr, X1 , ytr, y1 = tts(X, y, test_size= 0.25) \n",
    "Xva, Xte, yva, yte = tts(X1, y1, test_size= 0.6)"
   ]
  },
  {
   "cell_type": "code",
   "execution_count": 7,
   "id": "265fe205-a897-42f9-8a89-9b07ae2d3287",
   "metadata": {},
   "outputs": [
    {
     "name": "stdout",
     "output_type": "stream",
     "text": [
      "0.29082948871760794\n",
      "0.28775033457809107\n",
      "0.31603409902413726\n"
     ]
    }
   ],
   "source": [
    "# Train a linear model to buoy data\n",
    "lin = linear_model.LinearRegression()\n",
    "lin.fit(Xtr, ytr)\n",
    "print(lin.score(Xtr,ytr))\n",
    "print(lin.score(Xva,yva))\n",
    "print(lin.score(Xte,yte))"
   ]
  },
  {
   "cell_type": "code",
   "execution_count": 8,
   "id": "ae12673d-526c-435e-88ef-0a7cb100b95d",
   "metadata": {},
   "outputs": [
    {
     "name": "stdout",
     "output_type": "stream",
     "text": [
      "0.32152396917858794\n",
      "0.3155758243383662\n",
      "0.34834472330291866\n"
     ]
    }
   ],
   "source": [
    "# Train a neural regression to buoy data\n",
    "MLP = MLPRegressor(hidden_layer_sizes= (16,16,16))\n",
    "MLP.fit(Xtr, ytr)\n",
    "print(MLP.score(Xtr,ytr))\n",
    "print(MLP.score(Xva,yva))\n",
    "print(MLP.score(Xte,yte))"
   ]
  },
  {
   "cell_type": "code",
   "execution_count": null,
   "id": "b275eac8-d3ca-439f-9a74-6792ea5df687",
   "metadata": {},
   "outputs": [],
   "source": [
    "### Answers to problem set.\n",
    "# 1.) Linear model vs. neural network: Based on their scores, neural network does slightly better than the linear model, but it is only marginally better.\n",
    "# 2.) The cost function of the linear model is ordinary least squares. The one for the neutral network is a stochastic gradient-based optimizer."
   ]
  },
  {
   "cell_type": "code",
   "execution_count": 32,
   "id": "38f3cccf-4c67-442c-a3cf-03a2daad20c2",
   "metadata": {},
   "outputs": [],
   "source": [
    "### 3.) Fill the table.\n",
    "layer_ls = [[1,],[16,],[1,16],[16,16],[16,4,16],[16,16,16],[16,16,16,16],[16,32,64,128],[1,1,1,1,1],[100,100,100,100,100]]\n",
    "tr_error = []\n",
    "te_error = []\n",
    "for i in layer_ls:\n",
    "    MLP = MLPRegressor(hidden_layer_sizes= i)\n",
    "    MLP.fit(Xtr,ytr)\n",
    "    tr_error.append(mse(ytr, MLP.predict(Xtr)).round(3))\n",
    "    te_error.append(mse(yte, MLP.predict(Xte)).round(3))"
   ]
  },
  {
   "cell_type": "code",
   "execution_count": 33,
   "id": "417456b0-3a6c-4e52-82f6-b7306752f0cb",
   "metadata": {},
   "outputs": [
    {
     "name": "stdout",
     "output_type": "stream",
     "text": [
      "[0.278, 0.205, 0.179, 0.199, 0.199, 0.214, 0.193, 0.261, 0.278, 0.175]\n",
      "[0.285, 0.204, 0.173, 0.198, 0.197, 0.214, 0.184, 0.249, 0.285, 0.166]\n"
     ]
    }
   ],
   "source": [
    "# Look at your list of train and test errors\n",
    "print(tr_error)\n",
    "print(te_error)"
   ]
  },
  {
   "cell_type": "code",
   "execution_count": 34,
   "id": "ed129a7f-6df8-442d-a385-056445e6f614",
   "metadata": {},
   "outputs": [
    {
     "data": {
      "text/html": [
       "<div>\n",
       "<style scoped>\n",
       "    .dataframe tbody tr th:only-of-type {\n",
       "        vertical-align: middle;\n",
       "    }\n",
       "\n",
       "    .dataframe tbody tr th {\n",
       "        vertical-align: top;\n",
       "    }\n",
       "\n",
       "    .dataframe thead th {\n",
       "        text-align: right;\n",
       "    }\n",
       "</style>\n",
       "<table border=\"1\" class=\"dataframe\">\n",
       "  <thead>\n",
       "    <tr style=\"text-align: right;\">\n",
       "      <th></th>\n",
       "      <th>Number of layers</th>\n",
       "      <th>Nodes in layers</th>\n",
       "      <th>Train error</th>\n",
       "      <th>Test error</th>\n",
       "    </tr>\n",
       "  </thead>\n",
       "  <tbody>\n",
       "    <tr>\n",
       "      <th>0</th>\n",
       "      <td>1</td>\n",
       "      <td>[1]</td>\n",
       "      <td>0.278</td>\n",
       "      <td>0.285</td>\n",
       "    </tr>\n",
       "    <tr>\n",
       "      <th>1</th>\n",
       "      <td>1</td>\n",
       "      <td>[16]</td>\n",
       "      <td>0.205</td>\n",
       "      <td>0.204</td>\n",
       "    </tr>\n",
       "    <tr>\n",
       "      <th>2</th>\n",
       "      <td>2</td>\n",
       "      <td>[1, 16]</td>\n",
       "      <td>0.179</td>\n",
       "      <td>0.173</td>\n",
       "    </tr>\n",
       "    <tr>\n",
       "      <th>3</th>\n",
       "      <td>2</td>\n",
       "      <td>[16, 16]</td>\n",
       "      <td>0.199</td>\n",
       "      <td>0.198</td>\n",
       "    </tr>\n",
       "    <tr>\n",
       "      <th>4</th>\n",
       "      <td>3</td>\n",
       "      <td>[16, 4, 16]</td>\n",
       "      <td>0.199</td>\n",
       "      <td>0.197</td>\n",
       "    </tr>\n",
       "    <tr>\n",
       "      <th>5</th>\n",
       "      <td>3</td>\n",
       "      <td>[16, 16, 16]</td>\n",
       "      <td>0.214</td>\n",
       "      <td>0.214</td>\n",
       "    </tr>\n",
       "    <tr>\n",
       "      <th>6</th>\n",
       "      <td>4</td>\n",
       "      <td>[16, 16, 16, 16]</td>\n",
       "      <td>0.193</td>\n",
       "      <td>0.184</td>\n",
       "    </tr>\n",
       "    <tr>\n",
       "      <th>7</th>\n",
       "      <td>4</td>\n",
       "      <td>[16, 32, 64, 128]</td>\n",
       "      <td>0.261</td>\n",
       "      <td>0.249</td>\n",
       "    </tr>\n",
       "    <tr>\n",
       "      <th>8</th>\n",
       "      <td>5</td>\n",
       "      <td>[1, 1, 1, 1, 1]</td>\n",
       "      <td>0.278</td>\n",
       "      <td>0.285</td>\n",
       "    </tr>\n",
       "    <tr>\n",
       "      <th>9</th>\n",
       "      <td>5</td>\n",
       "      <td>[100, 100, 100, 100, 100]</td>\n",
       "      <td>0.175</td>\n",
       "      <td>0.166</td>\n",
       "    </tr>\n",
       "  </tbody>\n",
       "</table>\n",
       "</div>"
      ],
      "text/plain": [
       "   Number of layers            Nodes in layers  Train error  Test error\n",
       "0                 1                        [1]        0.278       0.285\n",
       "1                 1                       [16]        0.205       0.204\n",
       "2                 2                    [1, 16]        0.179       0.173\n",
       "3                 2                   [16, 16]        0.199       0.198\n",
       "4                 3                [16, 4, 16]        0.199       0.197\n",
       "5                 3               [16, 16, 16]        0.214       0.214\n",
       "6                 4           [16, 16, 16, 16]        0.193       0.184\n",
       "7                 4          [16, 32, 64, 128]        0.261       0.249\n",
       "8                 5            [1, 1, 1, 1, 1]        0.278       0.285\n",
       "9                 5  [100, 100, 100, 100, 100]        0.175       0.166"
      ]
     },
     "execution_count": 34,
     "metadata": {},
     "output_type": "execute_result"
    }
   ],
   "source": [
    "# Make the two lists into a dataframe\n",
    "layer_num = [1,1,2,2,3,3,4,4,5,5]\n",
    "error_df = pd.DataFrame(data= {'Number of layers':layer_num, 'Nodes in layers': layer_ls, 'Train error': tr_error, 'Test error': te_error })\n",
    "error_df"
   ]
  },
  {
   "cell_type": "code",
   "execution_count": null,
   "id": "44a211d4-d7e8-4485-9b22-38f931ec4278",
   "metadata": {},
   "outputs": [],
   "source": [
    "### 4.) Generally, more layers reduces the error and having more nodes reduces the error. However, errors are reduced when each layers node is about the same and when layers have more than one node."
   ]
  },
  {
   "cell_type": "code",
   "execution_count": 35,
   "id": "c85cc5b2-6084-4ccb-9d66-359d6bb19b8f",
   "metadata": {},
   "outputs": [],
   "source": [
    "activ = ['identity', 'logistic', 'tanh', 'relu']\n",
    "act_error = []\n",
    "for i in activ:\n",
    "    MLP2 = MLPRegressor(hidden_layer_sizes= [16,16,16,16,16], activation= i)\n",
    "    MLP2.fit(Xtr,ytr)\n",
    "    act_error.append(mse(yte, MLP2.predict(Xte)).round(3))"
   ]
  },
  {
   "cell_type": "code",
   "execution_count": 36,
   "id": "b43a29b8-8997-484f-bb6d-750a1b288647",
   "metadata": {},
   "outputs": [
    {
     "name": "stdout",
     "output_type": "stream",
     "text": [
      "[0.245, 0.162, 0.167, 0.181]\n"
     ]
    }
   ],
   "source": [
    "print(act_error)\n",
    "### 5.) It seems changing the activation function doesn't affect the error except with \"identity\", which had the highest error."
   ]
  }
 ],
 "metadata": {
  "kernelspec": {
   "display_name": "Python 3 (ipykernel)",
   "language": "python",
   "name": "python3"
  },
  "language_info": {
   "codemirror_mode": {
    "name": "ipython",
    "version": 3
   },
   "file_extension": ".py",
   "mimetype": "text/x-python",
   "name": "python",
   "nbconvert_exporter": "python",
   "pygments_lexer": "ipython3",
   "version": "3.9.13"
  }
 },
 "nbformat": 4,
 "nbformat_minor": 5
}
