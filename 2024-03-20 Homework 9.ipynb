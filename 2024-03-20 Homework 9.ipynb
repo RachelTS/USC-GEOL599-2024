{
 "cells": [
  {
   "cell_type": "code",
   "execution_count": 1,
   "id": "f2c5eada-abdf-44da-996a-dc55be6ac020",
   "metadata": {},
   "outputs": [
    {
     "name": "stdout",
     "output_type": "stream",
     "text": [
      "Collecting xgboost\n",
      "  Downloading xgboost-2.0.3-py3-none-win_amd64.whl (99.8 MB)\n",
      "     -------------------------------------- 99.8/99.8 MB 892.5 kB/s eta 0:00:00\n",
      "Requirement already satisfied: scipy in c:\\users\\rache\\miniconda3\\envs\\pyleo\\lib\\site-packages (from xgboost) (1.9.1)\n",
      "Requirement already satisfied: numpy in c:\\users\\rache\\miniconda3\\envs\\pyleo\\lib\\site-packages (from xgboost) (1.23.1)\n",
      "Installing collected packages: xgboost\n",
      "Successfully installed xgboost-2.0.3\n",
      "Note: you may need to restart the kernel to use updated packages.\n"
     ]
    },
    {
     "name": "stderr",
     "output_type": "stream",
     "text": [
      "WARNING: Ignoring invalid distribution -yproj (c:\\users\\rache\\miniconda3\\envs\\pyleo\\lib\\site-packages)\n",
      "WARNING: Ignoring invalid distribution -yproj (c:\\users\\rache\\miniconda3\\envs\\pyleo\\lib\\site-packages)\n",
      "WARNING: Ignoring invalid distribution -yproj (c:\\users\\rache\\miniconda3\\envs\\pyleo\\lib\\site-packages)\n",
      "WARNING: Ignoring invalid distribution -yproj (c:\\users\\rache\\miniconda3\\envs\\pyleo\\lib\\site-packages)\n",
      "WARNING: Ignoring invalid distribution -yproj (c:\\users\\rache\\miniconda3\\envs\\pyleo\\lib\\site-packages)\n",
      "WARNING: Ignoring invalid distribution -yproj (c:\\users\\rache\\miniconda3\\envs\\pyleo\\lib\\site-packages)\n",
      "WARNING: Ignoring invalid distribution -yproj (c:\\users\\rache\\miniconda3\\envs\\pyleo\\lib\\site-packages)\n"
     ]
    }
   ],
   "source": [
    "# pip install xgboost"
   ]
  },
  {
   "cell_type": "code",
   "execution_count": 1,
   "id": "252f4d26-2ea2-47d3-9bab-e5874239f80c",
   "metadata": {},
   "outputs": [],
   "source": [
    "# Import packages\n",
    "import pandas as pd\n",
    "import numpy as np\n",
    "from matplotlib import pyplot as plt\n",
    "import seaborn as sns\n",
    "from sklearn import linear_model\n",
    "from sklearn.model_selection import train_test_split as tts\n",
    "from sklearn.metrics import mean_squared_error as mse\n",
    "from xgboost import XGBRegressor"
   ]
  },
  {
   "cell_type": "code",
   "execution_count": 2,
   "id": "26382a91-91ee-4a09-877c-e5f6cd920517",
   "metadata": {},
   "outputs": [],
   "source": [
    "# Read in buoy data\n",
    "file = \"C:/Users/rache/Documents/University of Southern California/2023-2024 Year 4/GEOL 599 Environmental data science/data/HW8_buoy_data.xlsx\" #note on path\n",
    "buoy_all = pd.read_excel(file)"
   ]
  },
  {
   "cell_type": "code",
   "execution_count": 3,
   "id": "a007cca3-edaf-4820-8930-3785b1b91d9b",
   "metadata": {},
   "outputs": [
    {
     "data": {
      "text/html": [
       "<div>\n",
       "<style scoped>\n",
       "    .dataframe tbody tr th:only-of-type {\n",
       "        vertical-align: middle;\n",
       "    }\n",
       "\n",
       "    .dataframe tbody tr th {\n",
       "        vertical-align: top;\n",
       "    }\n",
       "\n",
       "    .dataframe thead th {\n",
       "        text-align: right;\n",
       "    }\n",
       "</style>\n",
       "<table border=\"1\" class=\"dataframe\">\n",
       "  <thead>\n",
       "    <tr style=\"text-align: right;\">\n",
       "      <th></th>\n",
       "      <th>height</th>\n",
       "      <th>dom pd</th>\n",
       "      <th>avg pd</th>\n",
       "      <th>dir</th>\n",
       "      <th>temp</th>\n",
       "    </tr>\n",
       "  </thead>\n",
       "  <tbody>\n",
       "    <tr>\n",
       "      <th>0</th>\n",
       "      <td>1.12</td>\n",
       "      <td>12.50</td>\n",
       "      <td>7.69</td>\n",
       "      <td>269</td>\n",
       "      <td>15.3</td>\n",
       "    </tr>\n",
       "    <tr>\n",
       "      <th>1</th>\n",
       "      <td>1.16</td>\n",
       "      <td>11.76</td>\n",
       "      <td>7.34</td>\n",
       "      <td>272</td>\n",
       "      <td>15.3</td>\n",
       "    </tr>\n",
       "    <tr>\n",
       "      <th>2</th>\n",
       "      <td>1.20</td>\n",
       "      <td>12.50</td>\n",
       "      <td>7.08</td>\n",
       "      <td>268</td>\n",
       "      <td>15.3</td>\n",
       "    </tr>\n",
       "    <tr>\n",
       "      <th>3</th>\n",
       "      <td>1.25</td>\n",
       "      <td>10.53</td>\n",
       "      <td>7.33</td>\n",
       "      <td>268</td>\n",
       "      <td>15.4</td>\n",
       "    </tr>\n",
       "    <tr>\n",
       "      <th>4</th>\n",
       "      <td>1.27</td>\n",
       "      <td>10.53</td>\n",
       "      <td>7.57</td>\n",
       "      <td>268</td>\n",
       "      <td>15.5</td>\n",
       "    </tr>\n",
       "  </tbody>\n",
       "</table>\n",
       "</div>"
      ],
      "text/plain": [
       "   height  dom pd  avg pd  dir  temp\n",
       "0    1.12   12.50    7.69  269  15.3\n",
       "1    1.16   11.76    7.34  272  15.3\n",
       "2    1.20   12.50    7.08  268  15.3\n",
       "3    1.25   10.53    7.33  268  15.4\n",
       "4    1.27   10.53    7.57  268  15.5"
      ]
     },
     "execution_count": 3,
     "metadata": {},
     "output_type": "execute_result"
    }
   ],
   "source": [
    "# Select only needed columns and rename them\n",
    "buoy = buoy_all.loc[:,['WVHT','DPD','APD','MWD','WTMP']]\n",
    "buoy = buoy.rename(columns={'WVHT':'height','DPD':'dom pd','APD':'avg pd','MWD':'dir','WTMP':'temp'})\n",
    "buoy.head()"
   ]
  },
  {
   "cell_type": "code",
   "execution_count": 4,
   "id": "73b4184c-b936-48f8-886b-45e684066227",
   "metadata": {},
   "outputs": [],
   "source": [
    "# Drop rows with no data (cell value = 99)\n",
    "buoy[(buoy['height']==99)|(buoy['dom pd']==99)|(buoy['avg pd']==99)|(buoy['dir']==99)|(buoy['temp']==99)] #See rows with no data\n",
    "buoy= buoy.drop(buoy[buoy['height']==99].index)"
   ]
  },
  {
   "cell_type": "code",
   "execution_count": 5,
   "id": "edee1e64-2e80-499b-8906-6fd9a3058f19",
   "metadata": {},
   "outputs": [
    {
     "data": {
      "text/plain": [
       "array([[ 12.5 ,   7.69, 269.  ,  15.3 ],\n",
       "       [ 11.76,   7.34, 272.  ,  15.3 ],\n",
       "       [ 12.5 ,   7.08, 268.  ,  15.3 ],\n",
       "       ...,\n",
       "       [ 13.33,  10.5 , 268.  ,  16.8 ],\n",
       "       [ 14.29,  10.32, 271.  ,  16.8 ],\n",
       "       [ 12.5 ,  10.54, 271.  ,  16.9 ]])"
      ]
     },
     "execution_count": 5,
     "metadata": {},
     "output_type": "execute_result"
    }
   ],
   "source": [
    "# Convert data to numpy array\n",
    "X = buoy.loc[:,['dom pd','avg pd','dir','temp']].to_numpy()\n",
    "X"
   ]
  },
  {
   "cell_type": "code",
   "execution_count": 6,
   "id": "52b7841b-30c9-4a27-8262-2b33b78baeda",
   "metadata": {},
   "outputs": [
    {
     "data": {
      "text/plain": [
       "array([1.12, 1.16, 1.2 , ..., 1.79, 1.66, 1.7 ])"
      ]
     },
     "execution_count": 6,
     "metadata": {},
     "output_type": "execute_result"
    }
   ],
   "source": [
    "# Convert data to numpy array\n",
    "y = buoy.loc[:,'height'].to_numpy()\n",
    "y"
   ]
  },
  {
   "cell_type": "code",
   "execution_count": 7,
   "id": "71fdb55d-01d4-4085-8268-38c2b007e7d7",
   "metadata": {},
   "outputs": [],
   "source": [
    "# Split the data into training, validation, and test datasets (75:10:15 split)\n",
    "Xtr, X1 , ytr, y1 = tts(X, y, test_size= 0.25) #split into 75% training, 25% everything else\n",
    "Xva, Xte, yva, yte = tts(X1, y1, test_size= 0.6)"
   ]
  },
  {
   "cell_type": "code",
   "execution_count": 8,
   "id": "d63a5efa-3443-41e0-89cb-676d4524273e",
   "metadata": {},
   "outputs": [
    {
     "name": "stdout",
     "output_type": "stream",
     "text": [
      "0.30022271286462443\n",
      "0.2842690899136273\n",
      "0.26650546435020894\n"
     ]
    }
   ],
   "source": [
    "# Fit linear ODE as baseline model for comparison\n",
    "lin = linear_model.LinearRegression()\n",
    "lin.fit(Xtr, ytr)\n",
    "print(lin.score(Xtr,ytr))\n",
    "print(lin.score(Xva,yva))\n",
    "print(lin.score(Xte,yte))"
   ]
  },
  {
   "cell_type": "code",
   "execution_count": 32,
   "id": "0cf1dfc3-d49d-4330-8b01-e99755fde253",
   "metadata": {},
   "outputs": [
    {
     "name": "stdout",
     "output_type": "stream",
     "text": [
      "[0]\tvalidation_0-rmse:0.38662\n",
      "[1]\tvalidation_0-rmse:0.35164\n",
      "[2]\tvalidation_0-rmse:0.34056\n",
      "[3]\tvalidation_0-rmse:0.32957\n",
      "[4]\tvalidation_0-rmse:0.32581\n",
      "[5]\tvalidation_0-rmse:0.32195\n",
      "[6]\tvalidation_0-rmse:0.31937\n",
      "[7]\tvalidation_0-rmse:0.31805\n",
      "[8]\tvalidation_0-rmse:0.31534\n",
      "[9]\tvalidation_0-rmse:0.30907\n",
      "[10]\tvalidation_0-rmse:0.30897\n",
      "[11]\tvalidation_0-rmse:0.30782\n",
      "[12]\tvalidation_0-rmse:0.30874\n",
      "[13]\tvalidation_0-rmse:0.30975\n",
      "[14]\tvalidation_0-rmse:0.30926\n",
      "[15]\tvalidation_0-rmse:0.31063\n",
      "[16]\tvalidation_0-rmse:0.30946\n",
      "[17]\tvalidation_0-rmse:0.30895\n",
      "[18]\tvalidation_0-rmse:0.30842\n",
      "[19]\tvalidation_0-rmse:0.30810\n",
      "0.7488295444610324\n",
      "0.6563636693766378\n"
     ]
    }
   ],
   "source": [
    "# Fit boosted regression tree model to buoy data\n",
    "bst = XGBRegressor(n_estimators=25, learning_rate=0.6,early_stopping_rounds=8)\n",
    "bst.fit(Xtr, ytr, eval_set=[(Xva, yva)])\n",
    "print(bst.score(Xtr,ytr))\n",
    "print(bst.score(Xva,yva))\n",
    "# Validation data indicates optimal learning rate is 0.6 and early stopping rounds is 8."
   ]
  },
  {
   "cell_type": "code",
   "execution_count": 29,
   "id": "e1b61066-0400-457a-bcba-7e91d8220fba",
   "metadata": {},
   "outputs": [
    {
     "name": "stdout",
     "output_type": "stream",
     "text": [
      "0.6535272384637232\n"
     ]
    }
   ],
   "source": [
    "# Look at model for test dataset.\n",
    "print(bst.score(Xte,yte))"
   ]
  },
  {
   "cell_type": "code",
   "execution_count": 34,
   "id": "86444b65-d173-4389-8dc0-c1d1fd307c5f",
   "metadata": {},
   "outputs": [
    {
     "data": {
      "text/plain": [
       "'reg:squarederror'"
      ]
     },
     "execution_count": 34,
     "metadata": {},
     "output_type": "execute_result"
    }
   ],
   "source": [
    "# Find boosted regression tree loss function\n",
    "bst.objective"
   ]
  },
  {
   "cell_type": "code",
   "execution_count": 36,
   "id": "e631565b-6bc5-4ef8-a05a-71e20bb0d790",
   "metadata": {},
   "outputs": [
    {
     "name": "stdout",
     "output_type": "stream",
     "text": [
      "Linear score: 0.267\n",
      "Linear MSE: 0.179\n",
      "Boosted regression tree score: 0.654\n",
      "Boosted regression tree MSE: 0.085\n"
     ]
    }
   ],
   "source": [
    "# Summarize the 2 models' scores and errors\n",
    "print(\"Linear score:\", lin.score(Xte,yte).round(3))\n",
    "print(\"Linear MSE:\", mse(yte, lin.predict(Xte)).round(3))\n",
    "print(\"Boosted regression tree score:\", bst.score(Xte,yte).round(3))\n",
    "print(\"Boosted regression tree MSE:\", mse(yte, bst.predict(Xte)).round(3))"
   ]
  },
  {
   "cell_type": "code",
   "execution_count": null,
   "id": "cec5297a-b35f-41aa-8489-164c71ce96f1",
   "metadata": {},
   "outputs": [],
   "source": [
    "# 1.) Comparing a baseline linear model and the boosted regression tree model, the latter performs better than the former.The training, validation, and test scores for the linear model are 0.300, 0.284, and 0.267 while the ones for the boosted regression tree model are 0.749, 0.656, and 0.654. The tree model scores for all 3 datasets are higher than the corresponding ones for the linear model.\n",
    "# 2.) The cost function for the linear model is ordinary least squares. The one for the boosted regression tree is mean squared error.\n",
    "# 3.) I optimized learning rate and early stopping rounds using the validation dataset score. I adjusted learning rate to maximize the validation dataset score (learning rate = 0.6) and increased the stopping rounds until the score no longer increased significantly (rounds = 8)."
   ]
  },
  {
   "cell_type": "code",
   "execution_count": 37,
   "id": "1f205274-b2ee-4481-a90a-1797a8e2f4ce",
   "metadata": {},
   "outputs": [],
   "source": [
    "# Generate set of boosted regression tree models with different # of iterations\n",
    "b2 = XGBRegressor(n_estimators=2, learning_rate=0.6,early_stopping_rounds=8)\n",
    "b10 = XGBRegressor(n_estimators=10, learning_rate=0.6,early_stopping_rounds=8)\n",
    "b50 = XGBRegressor(n_estimators=50, learning_rate=0.6,early_stopping_rounds=8)\n",
    "b100 = XGBRegressor(n_estimators=100, learning_rate=0.6,early_stopping_rounds=8)\n",
    "b250 = XGBRegressor(n_estimators=250, learning_rate=0.6,early_stopping_rounds=8)\n",
    "b500 = XGBRegressor(n_estimators=500, learning_rate=0.6,early_stopping_rounds=8)\n",
    "b1000 = XGBRegressor(n_estimators=1000, learning_rate=0.6,early_stopping_rounds=8)"
   ]
  },
  {
   "cell_type": "code",
   "execution_count": 39,
   "id": "90d8ba31-26ff-4ab4-850f-e05f4c7d702b",
   "metadata": {},
   "outputs": [
    {
     "name": "stdout",
     "output_type": "stream",
     "text": [
      "[0]\tvalidation_0-rmse:0.38662\n",
      "[1]\tvalidation_0-rmse:0.35164\n",
      "[0]\tvalidation_0-rmse:0.38662\n",
      "[1]\tvalidation_0-rmse:0.35164\n",
      "[2]\tvalidation_0-rmse:0.34056\n",
      "[3]\tvalidation_0-rmse:0.32957\n",
      "[4]\tvalidation_0-rmse:0.32581\n",
      "[5]\tvalidation_0-rmse:0.32195\n",
      "[6]\tvalidation_0-rmse:0.31937\n",
      "[7]\tvalidation_0-rmse:0.31805\n",
      "[8]\tvalidation_0-rmse:0.31534\n",
      "[9]\tvalidation_0-rmse:0.30907\n",
      "[0]\tvalidation_0-rmse:0.38662\n",
      "[1]\tvalidation_0-rmse:0.35164\n",
      "[2]\tvalidation_0-rmse:0.34056\n",
      "[3]\tvalidation_0-rmse:0.32957\n",
      "[4]\tvalidation_0-rmse:0.32581\n",
      "[5]\tvalidation_0-rmse:0.32195\n",
      "[6]\tvalidation_0-rmse:0.31937\n",
      "[7]\tvalidation_0-rmse:0.31805\n",
      "[8]\tvalidation_0-rmse:0.31534\n",
      "[9]\tvalidation_0-rmse:0.30907\n",
      "[10]\tvalidation_0-rmse:0.30897\n",
      "[11]\tvalidation_0-rmse:0.30782\n",
      "[12]\tvalidation_0-rmse:0.30874\n",
      "[13]\tvalidation_0-rmse:0.30975\n",
      "[14]\tvalidation_0-rmse:0.30926\n",
      "[15]\tvalidation_0-rmse:0.31063\n",
      "[16]\tvalidation_0-rmse:0.30946\n",
      "[17]\tvalidation_0-rmse:0.30895\n",
      "[18]\tvalidation_0-rmse:0.30842\n",
      "[0]\tvalidation_0-rmse:0.38662\n",
      "[1]\tvalidation_0-rmse:0.35164\n",
      "[2]\tvalidation_0-rmse:0.34056\n",
      "[3]\tvalidation_0-rmse:0.32957\n",
      "[4]\tvalidation_0-rmse:0.32581\n",
      "[5]\tvalidation_0-rmse:0.32195\n",
      "[6]\tvalidation_0-rmse:0.31937\n",
      "[7]\tvalidation_0-rmse:0.31805\n",
      "[8]\tvalidation_0-rmse:0.31534\n",
      "[9]\tvalidation_0-rmse:0.30907\n",
      "[10]\tvalidation_0-rmse:0.30897\n",
      "[11]\tvalidation_0-rmse:0.30782\n",
      "[12]\tvalidation_0-rmse:0.30874\n",
      "[13]\tvalidation_0-rmse:0.30975\n",
      "[14]\tvalidation_0-rmse:0.30926\n",
      "[15]\tvalidation_0-rmse:0.31063\n",
      "[16]\tvalidation_0-rmse:0.30946\n",
      "[17]\tvalidation_0-rmse:0.30895\n",
      "[18]\tvalidation_0-rmse:0.30842\n",
      "[0]\tvalidation_0-rmse:0.38662\n",
      "[1]\tvalidation_0-rmse:0.35164\n",
      "[2]\tvalidation_0-rmse:0.34056\n",
      "[3]\tvalidation_0-rmse:0.32957\n",
      "[4]\tvalidation_0-rmse:0.32581\n",
      "[5]\tvalidation_0-rmse:0.32195\n",
      "[6]\tvalidation_0-rmse:0.31937\n",
      "[7]\tvalidation_0-rmse:0.31805\n",
      "[8]\tvalidation_0-rmse:0.31534\n",
      "[9]\tvalidation_0-rmse:0.30907\n",
      "[10]\tvalidation_0-rmse:0.30897\n",
      "[11]\tvalidation_0-rmse:0.30782\n",
      "[12]\tvalidation_0-rmse:0.30874\n",
      "[13]\tvalidation_0-rmse:0.30975\n",
      "[14]\tvalidation_0-rmse:0.30926\n",
      "[15]\tvalidation_0-rmse:0.31063\n",
      "[16]\tvalidation_0-rmse:0.30946\n",
      "[17]\tvalidation_0-rmse:0.30895\n",
      "[18]\tvalidation_0-rmse:0.30842\n",
      "[0]\tvalidation_0-rmse:0.38662\n",
      "[1]\tvalidation_0-rmse:0.35164\n",
      "[2]\tvalidation_0-rmse:0.34056\n",
      "[3]\tvalidation_0-rmse:0.32957\n",
      "[4]\tvalidation_0-rmse:0.32581\n",
      "[5]\tvalidation_0-rmse:0.32195\n",
      "[6]\tvalidation_0-rmse:0.31937\n",
      "[7]\tvalidation_0-rmse:0.31805\n",
      "[8]\tvalidation_0-rmse:0.31534\n",
      "[9]\tvalidation_0-rmse:0.30907\n",
      "[10]\tvalidation_0-rmse:0.30897\n",
      "[11]\tvalidation_0-rmse:0.30782\n",
      "[12]\tvalidation_0-rmse:0.30874\n",
      "[13]\tvalidation_0-rmse:0.30975\n",
      "[14]\tvalidation_0-rmse:0.30926\n",
      "[15]\tvalidation_0-rmse:0.31063\n",
      "[16]\tvalidation_0-rmse:0.30946\n",
      "[17]\tvalidation_0-rmse:0.30895\n",
      "[18]\tvalidation_0-rmse:0.30842\n",
      "[0]\tvalidation_0-rmse:0.38662\n",
      "[1]\tvalidation_0-rmse:0.35164\n",
      "[2]\tvalidation_0-rmse:0.34056\n",
      "[3]\tvalidation_0-rmse:0.32957\n",
      "[4]\tvalidation_0-rmse:0.32581\n",
      "[5]\tvalidation_0-rmse:0.32195\n",
      "[6]\tvalidation_0-rmse:0.31937\n",
      "[7]\tvalidation_0-rmse:0.31805\n",
      "[8]\tvalidation_0-rmse:0.31534\n",
      "[9]\tvalidation_0-rmse:0.30907\n",
      "[10]\tvalidation_0-rmse:0.30897\n",
      "[11]\tvalidation_0-rmse:0.30782\n",
      "[12]\tvalidation_0-rmse:0.30874\n",
      "[13]\tvalidation_0-rmse:0.30975\n",
      "[14]\tvalidation_0-rmse:0.30926\n",
      "[15]\tvalidation_0-rmse:0.31063\n",
      "[16]\tvalidation_0-rmse:0.30946\n",
      "[17]\tvalidation_0-rmse:0.30895\n",
      "[18]\tvalidation_0-rmse:0.30842\n",
      "[19]\tvalidation_0-rmse:0.30810\n"
     ]
    },
    {
     "data": {
      "text/html": [
       "<style>#sk-container-id-1 {color: black;background-color: white;}#sk-container-id-1 pre{padding: 0;}#sk-container-id-1 div.sk-toggleable {background-color: white;}#sk-container-id-1 label.sk-toggleable__label {cursor: pointer;display: block;width: 100%;margin-bottom: 0;padding: 0.3em;box-sizing: border-box;text-align: center;}#sk-container-id-1 label.sk-toggleable__label-arrow:before {content: \"▸\";float: left;margin-right: 0.25em;color: #696969;}#sk-container-id-1 label.sk-toggleable__label-arrow:hover:before {color: black;}#sk-container-id-1 div.sk-estimator:hover label.sk-toggleable__label-arrow:before {color: black;}#sk-container-id-1 div.sk-toggleable__content {max-height: 0;max-width: 0;overflow: hidden;text-align: left;background-color: #f0f8ff;}#sk-container-id-1 div.sk-toggleable__content pre {margin: 0.2em;color: black;border-radius: 0.25em;background-color: #f0f8ff;}#sk-container-id-1 input.sk-toggleable__control:checked~div.sk-toggleable__content {max-height: 200px;max-width: 100%;overflow: auto;}#sk-container-id-1 input.sk-toggleable__control:checked~label.sk-toggleable__label-arrow:before {content: \"▾\";}#sk-container-id-1 div.sk-estimator input.sk-toggleable__control:checked~label.sk-toggleable__label {background-color: #d4ebff;}#sk-container-id-1 div.sk-label input.sk-toggleable__control:checked~label.sk-toggleable__label {background-color: #d4ebff;}#sk-container-id-1 input.sk-hidden--visually {border: 0;clip: rect(1px 1px 1px 1px);clip: rect(1px, 1px, 1px, 1px);height: 1px;margin: -1px;overflow: hidden;padding: 0;position: absolute;width: 1px;}#sk-container-id-1 div.sk-estimator {font-family: monospace;background-color: #f0f8ff;border: 1px dotted black;border-radius: 0.25em;box-sizing: border-box;margin-bottom: 0.5em;}#sk-container-id-1 div.sk-estimator:hover {background-color: #d4ebff;}#sk-container-id-1 div.sk-parallel-item::after {content: \"\";width: 100%;border-bottom: 1px solid gray;flex-grow: 1;}#sk-container-id-1 div.sk-label:hover label.sk-toggleable__label {background-color: #d4ebff;}#sk-container-id-1 div.sk-serial::before {content: \"\";position: absolute;border-left: 1px solid gray;box-sizing: border-box;top: 0;bottom: 0;left: 50%;z-index: 0;}#sk-container-id-1 div.sk-serial {display: flex;flex-direction: column;align-items: center;background-color: white;padding-right: 0.2em;padding-left: 0.2em;position: relative;}#sk-container-id-1 div.sk-item {position: relative;z-index: 1;}#sk-container-id-1 div.sk-parallel {display: flex;align-items: stretch;justify-content: center;background-color: white;position: relative;}#sk-container-id-1 div.sk-item::before, #sk-container-id-1 div.sk-parallel-item::before {content: \"\";position: absolute;border-left: 1px solid gray;box-sizing: border-box;top: 0;bottom: 0;left: 50%;z-index: -1;}#sk-container-id-1 div.sk-parallel-item {display: flex;flex-direction: column;z-index: 1;position: relative;background-color: white;}#sk-container-id-1 div.sk-parallel-item:first-child::after {align-self: flex-end;width: 50%;}#sk-container-id-1 div.sk-parallel-item:last-child::after {align-self: flex-start;width: 50%;}#sk-container-id-1 div.sk-parallel-item:only-child::after {width: 0;}#sk-container-id-1 div.sk-dashed-wrapped {border: 1px dashed gray;margin: 0 0.4em 0.5em 0.4em;box-sizing: border-box;padding-bottom: 0.4em;background-color: white;}#sk-container-id-1 div.sk-label label {font-family: monospace;font-weight: bold;display: inline-block;line-height: 1.2em;}#sk-container-id-1 div.sk-label-container {text-align: center;}#sk-container-id-1 div.sk-container {/* jupyter's `normalize.less` sets `[hidden] { display: none; }` but bootstrap.min.css set `[hidden] { display: none !important; }` so we also need the `!important` here to be able to override the default hidden behavior on the sphinx rendered scikit-learn.org. See: https://github.com/scikit-learn/scikit-learn/issues/21755 */display: inline-block !important;position: relative;}#sk-container-id-1 div.sk-text-repr-fallback {display: none;}</style><div id=\"sk-container-id-1\" class=\"sk-top-container\"><div class=\"sk-text-repr-fallback\"><pre>XGBRegressor(base_score=None, booster=None, callbacks=None,\n",
       "             colsample_bylevel=None, colsample_bynode=None,\n",
       "             colsample_bytree=None, device=None, early_stopping_rounds=8,\n",
       "             enable_categorical=False, eval_metric=None, feature_types=None,\n",
       "             gamma=None, grow_policy=None, importance_type=None,\n",
       "             interaction_constraints=None, learning_rate=0.6, max_bin=None,\n",
       "             max_cat_threshold=None, max_cat_to_onehot=None,\n",
       "             max_delta_step=None, max_depth=None, max_leaves=None,\n",
       "             min_child_weight=None, missing=nan, monotone_constraints=None,\n",
       "             multi_strategy=None, n_estimators=1000, n_jobs=None,\n",
       "             num_parallel_tree=None, random_state=None, ...)</pre><b>In a Jupyter environment, please rerun this cell to show the HTML representation or trust the notebook. <br />On GitHub, the HTML representation is unable to render, please try loading this page with nbviewer.org.</b></div><div class=\"sk-container\" hidden><div class=\"sk-item\"><div class=\"sk-estimator sk-toggleable\"><input class=\"sk-toggleable__control sk-hidden--visually\" id=\"sk-estimator-id-1\" type=\"checkbox\" checked><label for=\"sk-estimator-id-1\" class=\"sk-toggleable__label sk-toggleable__label-arrow\">XGBRegressor</label><div class=\"sk-toggleable__content\"><pre>XGBRegressor(base_score=None, booster=None, callbacks=None,\n",
       "             colsample_bylevel=None, colsample_bynode=None,\n",
       "             colsample_bytree=None, device=None, early_stopping_rounds=8,\n",
       "             enable_categorical=False, eval_metric=None, feature_types=None,\n",
       "             gamma=None, grow_policy=None, importance_type=None,\n",
       "             interaction_constraints=None, learning_rate=0.6, max_bin=None,\n",
       "             max_cat_threshold=None, max_cat_to_onehot=None,\n",
       "             max_delta_step=None, max_depth=None, max_leaves=None,\n",
       "             min_child_weight=None, missing=nan, monotone_constraints=None,\n",
       "             multi_strategy=None, n_estimators=1000, n_jobs=None,\n",
       "             num_parallel_tree=None, random_state=None, ...)</pre></div></div></div></div></div>"
      ],
      "text/plain": [
       "XGBRegressor(base_score=None, booster=None, callbacks=None,\n",
       "             colsample_bylevel=None, colsample_bynode=None,\n",
       "             colsample_bytree=None, device=None, early_stopping_rounds=8,\n",
       "             enable_categorical=False, eval_metric=None, feature_types=None,\n",
       "             gamma=None, grow_policy=None, importance_type=None,\n",
       "             interaction_constraints=None, learning_rate=0.6, max_bin=None,\n",
       "             max_cat_threshold=None, max_cat_to_onehot=None,\n",
       "             max_delta_step=None, max_depth=None, max_leaves=None,\n",
       "             min_child_weight=None, missing=nan, monotone_constraints=None,\n",
       "             multi_strategy=None, n_estimators=1000, n_jobs=None,\n",
       "             num_parallel_tree=None, random_state=None, ...)"
      ]
     },
     "execution_count": 39,
     "metadata": {},
     "output_type": "execute_result"
    }
   ],
   "source": [
    "# Fit all the new models\n",
    "b2.fit(Xtr,ytr,eval_set=[(Xva, yva)])\n",
    "b10.fit(Xtr,ytr,eval_set=[(Xva, yva)])\n",
    "b50.fit(Xtr,ytr,eval_set=[(Xva, yva)])\n",
    "b100.fit(Xtr,ytr,eval_set=[(Xva, yva)])\n",
    "b250.fit(Xtr,ytr,eval_set=[(Xva, yva)])\n",
    "b500.fit(Xtr,ytr,eval_set=[(Xva, yva)])\n",
    "b1000.fit(Xtr,ytr,eval_set=[(Xva, yva)])"
   ]
  },
  {
   "cell_type": "code",
   "execution_count": 41,
   "id": "7974d13e-8920-4a04-889a-e0128f5046b8",
   "metadata": {},
   "outputs": [],
   "source": [
    "# Put all the training and validation MSEs from the above models into a dataframe\n",
    "it_num= [2,10,25,50,100,250,500,1000]\n",
    "mse1= [mse(ytr, b2.predict(Xtr)), mse(ytr, b10.predict(Xtr)), mse(ytr, bst.predict(Xtr)), mse(ytr, b50.predict(Xtr)), mse(ytr, b100.predict(Xtr)), mse(ytr, b250.predict(Xtr)), mse(ytr, b500.predict(Xtr)), mse(ytr, b1000.predict(Xtr))]\n",
    "mse2= [mse(yva, b2.predict(Xva)), mse(yva, b10.predict(Xva)), mse(yva, bst.predict(Xva)), mse(yva, b50.predict(Xva)), mse(yva, b100.predict(Xva)), mse(yva, b250.predict(Xva)), mse(yva, b500.predict(Xva)), mse(yva, b1000.predict(Xva))]\n",
    "MSE_data= {'number of iterations':it_num, 'training data MSE':mse1, 'validation data MSE':mse2}\n",
    "MSE_df= pd.DataFrame(MSE_data)"
   ]
  },
  {
   "cell_type": "code",
   "execution_count": 42,
   "id": "25fc076e-ddf5-4e1d-9f61-f66cc4bca8a4",
   "metadata": {},
   "outputs": [
    {
     "data": {
      "text/html": [
       "<div>\n",
       "<style scoped>\n",
       "    .dataframe tbody tr th:only-of-type {\n",
       "        vertical-align: middle;\n",
       "    }\n",
       "\n",
       "    .dataframe tbody tr th {\n",
       "        vertical-align: top;\n",
       "    }\n",
       "\n",
       "    .dataframe thead th {\n",
       "        text-align: right;\n",
       "    }\n",
       "</style>\n",
       "<table border=\"1\" class=\"dataframe\">\n",
       "  <thead>\n",
       "    <tr style=\"text-align: right;\">\n",
       "      <th></th>\n",
       "      <th>number of iterations</th>\n",
       "      <th>training data MSE</th>\n",
       "      <th>validation data MSE</th>\n",
       "    </tr>\n",
       "  </thead>\n",
       "  <tbody>\n",
       "    <tr>\n",
       "      <th>0</th>\n",
       "      <td>2</td>\n",
       "      <td>0.117268</td>\n",
       "      <td>0.123654</td>\n",
       "    </tr>\n",
       "    <tr>\n",
       "      <th>1</th>\n",
       "      <td>10</td>\n",
       "      <td>0.074253</td>\n",
       "      <td>0.095525</td>\n",
       "    </tr>\n",
       "    <tr>\n",
       "      <th>2</th>\n",
       "      <td>25</td>\n",
       "      <td>0.071364</td>\n",
       "      <td>0.094751</td>\n",
       "    </tr>\n",
       "    <tr>\n",
       "      <th>3</th>\n",
       "      <td>50</td>\n",
       "      <td>0.071364</td>\n",
       "      <td>0.094751</td>\n",
       "    </tr>\n",
       "    <tr>\n",
       "      <th>4</th>\n",
       "      <td>100</td>\n",
       "      <td>0.071364</td>\n",
       "      <td>0.094751</td>\n",
       "    </tr>\n",
       "    <tr>\n",
       "      <th>5</th>\n",
       "      <td>250</td>\n",
       "      <td>0.071364</td>\n",
       "      <td>0.094751</td>\n",
       "    </tr>\n",
       "    <tr>\n",
       "      <th>6</th>\n",
       "      <td>500</td>\n",
       "      <td>0.071364</td>\n",
       "      <td>0.094751</td>\n",
       "    </tr>\n",
       "    <tr>\n",
       "      <th>7</th>\n",
       "      <td>1000</td>\n",
       "      <td>0.071364</td>\n",
       "      <td>0.094751</td>\n",
       "    </tr>\n",
       "  </tbody>\n",
       "</table>\n",
       "</div>"
      ],
      "text/plain": [
       "   number of iterations  training data MSE  validation data MSE\n",
       "0                     2           0.117268             0.123654\n",
       "1                    10           0.074253             0.095525\n",
       "2                    25           0.071364             0.094751\n",
       "3                    50           0.071364             0.094751\n",
       "4                   100           0.071364             0.094751\n",
       "5                   250           0.071364             0.094751\n",
       "6                   500           0.071364             0.094751\n",
       "7                  1000           0.071364             0.094751"
      ]
     },
     "execution_count": 42,
     "metadata": {},
     "output_type": "execute_result"
    }
   ],
   "source": [
    "MSE_df"
   ]
  },
  {
   "cell_type": "code",
   "execution_count": 44,
   "id": "b51ae091-7c5d-4777-82a9-3e3bc805dec4",
   "metadata": {},
   "outputs": [
    {
     "data": {
      "text/html": [
       "<div>\n",
       "<style scoped>\n",
       "    .dataframe tbody tr th:only-of-type {\n",
       "        vertical-align: middle;\n",
       "    }\n",
       "\n",
       "    .dataframe tbody tr th {\n",
       "        vertical-align: top;\n",
       "    }\n",
       "\n",
       "    .dataframe thead th {\n",
       "        text-align: right;\n",
       "    }\n",
       "</style>\n",
       "<table border=\"1\" class=\"dataframe\">\n",
       "  <thead>\n",
       "    <tr style=\"text-align: right;\">\n",
       "      <th></th>\n",
       "      <th>number of iterations</th>\n",
       "      <th>variable</th>\n",
       "      <th>value</th>\n",
       "    </tr>\n",
       "  </thead>\n",
       "  <tbody>\n",
       "    <tr>\n",
       "      <th>0</th>\n",
       "      <td>2</td>\n",
       "      <td>training</td>\n",
       "      <td>0.117268</td>\n",
       "    </tr>\n",
       "    <tr>\n",
       "      <th>1</th>\n",
       "      <td>10</td>\n",
       "      <td>training</td>\n",
       "      <td>0.074253</td>\n",
       "    </tr>\n",
       "    <tr>\n",
       "      <th>2</th>\n",
       "      <td>25</td>\n",
       "      <td>training</td>\n",
       "      <td>0.071364</td>\n",
       "    </tr>\n",
       "    <tr>\n",
       "      <th>3</th>\n",
       "      <td>50</td>\n",
       "      <td>training</td>\n",
       "      <td>0.071364</td>\n",
       "    </tr>\n",
       "    <tr>\n",
       "      <th>4</th>\n",
       "      <td>100</td>\n",
       "      <td>training</td>\n",
       "      <td>0.071364</td>\n",
       "    </tr>\n",
       "    <tr>\n",
       "      <th>5</th>\n",
       "      <td>250</td>\n",
       "      <td>training</td>\n",
       "      <td>0.071364</td>\n",
       "    </tr>\n",
       "    <tr>\n",
       "      <th>6</th>\n",
       "      <td>500</td>\n",
       "      <td>training</td>\n",
       "      <td>0.071364</td>\n",
       "    </tr>\n",
       "    <tr>\n",
       "      <th>7</th>\n",
       "      <td>1000</td>\n",
       "      <td>training</td>\n",
       "      <td>0.071364</td>\n",
       "    </tr>\n",
       "    <tr>\n",
       "      <th>8</th>\n",
       "      <td>2</td>\n",
       "      <td>validation</td>\n",
       "      <td>0.123654</td>\n",
       "    </tr>\n",
       "    <tr>\n",
       "      <th>9</th>\n",
       "      <td>10</td>\n",
       "      <td>validation</td>\n",
       "      <td>0.095525</td>\n",
       "    </tr>\n",
       "    <tr>\n",
       "      <th>10</th>\n",
       "      <td>25</td>\n",
       "      <td>validation</td>\n",
       "      <td>0.094751</td>\n",
       "    </tr>\n",
       "    <tr>\n",
       "      <th>11</th>\n",
       "      <td>50</td>\n",
       "      <td>validation</td>\n",
       "      <td>0.094751</td>\n",
       "    </tr>\n",
       "    <tr>\n",
       "      <th>12</th>\n",
       "      <td>100</td>\n",
       "      <td>validation</td>\n",
       "      <td>0.094751</td>\n",
       "    </tr>\n",
       "    <tr>\n",
       "      <th>13</th>\n",
       "      <td>250</td>\n",
       "      <td>validation</td>\n",
       "      <td>0.094751</td>\n",
       "    </tr>\n",
       "    <tr>\n",
       "      <th>14</th>\n",
       "      <td>500</td>\n",
       "      <td>validation</td>\n",
       "      <td>0.094751</td>\n",
       "    </tr>\n",
       "    <tr>\n",
       "      <th>15</th>\n",
       "      <td>1000</td>\n",
       "      <td>validation</td>\n",
       "      <td>0.094751</td>\n",
       "    </tr>\n",
       "  </tbody>\n",
       "</table>\n",
       "</div>"
      ],
      "text/plain": [
       "    number of iterations    variable     value\n",
       "0                      2    training  0.117268\n",
       "1                     10    training  0.074253\n",
       "2                     25    training  0.071364\n",
       "3                     50    training  0.071364\n",
       "4                    100    training  0.071364\n",
       "5                    250    training  0.071364\n",
       "6                    500    training  0.071364\n",
       "7                   1000    training  0.071364\n",
       "8                      2  validation  0.123654\n",
       "9                     10  validation  0.095525\n",
       "10                    25  validation  0.094751\n",
       "11                    50  validation  0.094751\n",
       "12                   100  validation  0.094751\n",
       "13                   250  validation  0.094751\n",
       "14                   500  validation  0.094751\n",
       "15                  1000  validation  0.094751"
      ]
     },
     "execution_count": 44,
     "metadata": {},
     "output_type": "execute_result"
    }
   ],
   "source": [
    "# Turn MSE dataframe to long format\n",
    "MSE_df = MSE_df.rename(columns= {'training data MSE':'training', 'validation data MSE':'validation'})\n",
    "MSE_df_long = pd.melt(MSE_df, id_vars= ['number of iterations'], value_vars= ['training','validation'])\n",
    "MSE_df_long"
   ]
  },
  {
   "cell_type": "code",
   "execution_count": 47,
   "id": "1c01ea17-4ad0-4f59-a734-b441e54d5a36",
   "metadata": {},
   "outputs": [
    {
     "data": {
      "image/png": "[encoded data removed]",
      "text/plain": [
       "<Figure size 640x480 with 1 Axes>"
      ]
     },
     "metadata": {},
     "output_type": "display_data"
    }
   ],
   "source": [
    "# 4.) Plot the number of iterations vs. the MSEs\n",
    "plot= sns.lineplot(data=MSE_df_long, x='number of iterations', y='value', hue= 'variable')\n",
    "plot.set_title(\"boosted regression tree model error\")\n",
    "plt.xscale('log')\n",
    "plt.xlabel(\"number of model iterations\", fontsize= 15)\n",
    "plt.ylabel(\"MSE\", fontsize= 15)\n",
    "plt.show()"
   ]
  },
  {
   "cell_type": "code",
   "execution_count": null,
   "id": "cfef9b2e-e04b-48ef-9ed0-bbe506f74a1b",
   "metadata": {},
   "outputs": [],
   "source": [
    "# 5.) I do not have any evidence of overfitting because the validation data errors did not increase with increasing iterations."
   ]
  },
  {
   "cell_type": "code",
   "execution_count": 65,
   "id": "5fef5748-4517-43ca-b251-5a0f0698dd54",
   "metadata": {},
   "outputs": [
    {
     "name": "stdout",
     "output_type": "stream",
     "text": [
      "[0]\tvalidation_0-rmse:0.38662\n",
      "[1]\tvalidation_0-rmse:0.35164\n",
      "[2]\tvalidation_0-rmse:0.34056\n",
      "[3]\tvalidation_0-rmse:0.32957\n",
      "[4]\tvalidation_0-rmse:0.32581\n",
      "[5]\tvalidation_0-rmse:0.32195\n",
      "[6]\tvalidation_0-rmse:0.31937\n",
      "[7]\tvalidation_0-rmse:0.31805\n",
      "[8]\tvalidation_0-rmse:0.31534\n",
      "[9]\tvalidation_0-rmse:0.30907\n",
      "[10]\tvalidation_0-rmse:0.30897\n",
      "[11]\tvalidation_0-rmse:0.30782\n",
      "[12]\tvalidation_0-rmse:0.30874\n",
      "[13]\tvalidation_0-rmse:0.30975\n",
      "[14]\tvalidation_0-rmse:0.30926\n",
      "[15]\tvalidation_0-rmse:0.31063\n",
      "[16]\tvalidation_0-rmse:0.30946\n",
      "[17]\tvalidation_0-rmse:0.30895\n",
      "[18]\tvalidation_0-rmse:0.30842\n",
      "[19]\tvalidation_0-rmse:0.30810\n",
      "[20]\tvalidation_0-rmse:0.30673\n",
      "[21]\tvalidation_0-rmse:0.30739\n",
      "[22]\tvalidation_0-rmse:0.30611\n",
      "[23]\tvalidation_0-rmse:0.30632\n",
      "[24]\tvalidation_0-rmse:0.30612\n",
      "[25]\tvalidation_0-rmse:0.30637\n",
      "[26]\tvalidation_0-rmse:0.30624\n",
      "[27]\tvalidation_0-rmse:0.30591\n",
      "[28]\tvalidation_0-rmse:0.30673\n",
      "[29]\tvalidation_0-rmse:0.30637\n",
      "[30]\tvalidation_0-rmse:0.30609\n",
      "[31]\tvalidation_0-rmse:0.30572\n",
      "[32]\tvalidation_0-rmse:0.30505\n",
      "[33]\tvalidation_0-rmse:0.30564\n",
      "[34]\tvalidation_0-rmse:0.30626\n",
      "0.8188946677939305\n",
      "0.662514436387247\n",
      "0.6615803576010971\n"
     ]
    }
   ],
   "source": [
    "bst2 = XGBRegressor(n_estimators=35, learning_rate=0.6,early_stopping_rounds=10)\n",
    "bst2.fit(Xtr, ytr, eval_set=[(Xva, yva)])\n",
    "print(bst2.score(Xtr,ytr))\n",
    "print(bst2.score(Xva,yva))\n",
    "print(bst2.score(Xte,yte))"
   ]
  },
  {
   "cell_type": "code",
   "execution_count": null,
   "id": "8ca570cf-9901-4f37-b201-48ff9a84a928",
   "metadata": {},
   "outputs": [],
   "source": [
    "# 6.) After changing the stopping to a tolerance of 10, the optimal boosting iterations seems to be 35."
   ]
  }
 ],
 "metadata": {
  "kernelspec": {
   "display_name": "Python 3 (ipykernel)",
   "language": "python",
   "name": "python3"
  },
  "language_info": {
   "codemirror_mode": {
    "name": "ipython",
    "version": 3
   },
   "file_extension": ".py",
   "mimetype": "text/x-python",
   "name": "python",
   "nbconvert_exporter": "python",
   "pygments_lexer": "ipython3",
   "version": "3.9.13"
  }
 },
 "nbformat": 4,
 "nbformat_minor": 5
}
